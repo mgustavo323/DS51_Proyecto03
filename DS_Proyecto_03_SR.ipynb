{
  "nbformat": 4,
  "nbformat_minor": 0,
  "metadata": {
    "kernelspec": {
      "display_name": "Python 3",
      "language": "python",
      "name": "python3"
    },
    "language_info": {
      "codemirror_mode": {
        "name": "ipython",
        "version": 3
      },
      "file_extension": ".py",
      "mimetype": "text/x-python",
      "name": "python",
      "nbconvert_exporter": "python",
      "pygments_lexer": "ipython3",
      "version": "3.8.2"
    },
    "colab": {
      "name": "DS_Proyecto_03_SR.ipynb",
      "provenance": [],
      "collapsed_sections": []
    }
  },
  "cells": [
    {
      "cell_type": "markdown",
      "metadata": {
        "id": "gzJLet17WTzh"
      },
      "source": [
        "# Proyecto 03 - Sistemas de Recomendación\n",
        "\n",
        "## Dataset: STEAM\n",
        "\n",
        "**Recuerda descargar el dataset de [aquí](https://github.com/kang205/SASRec). Son dos archivos, uno de calificaciones y otro de información sobre los juegos.**\n",
        "\n",
        "En este notebook te dejamos unas celdas para que puedas comenzar a trabajar con este dataset. Sin embargo, **deberás** modificarlas para hacer un mejor manejo de datos. Algunas cosas a las que deberás prestar atención (tal vez no a todas):\n",
        "1. Tipos de datos: elige tipos de datos apropiados para cada columna.\n",
        "2. Descartar columnas poco informativas.\n",
        "3. Guardar en memoria datasets preprocesados para no tener que repetir código que tarde en correr.\n",
        "\n",
        "### Exploración de datos\n",
        "\n",
        "Dedícale un buen tiempo a hacer un Análisis Exploratorio de Datos. Elige preguntas que creas que puedas responder con este dataset. Por ejemplo, ¿cuáles son los juegos más populares?¿Y los menos populares?\n",
        "\n",
        "### Filtro Colaborativo\n",
        "\n",
        "Deberás implementar un sistema de recomendación colaborativo para este dataset. Ten en cuenta:\n",
        "\n",
        "1. Haz todas las transformaciones de datos que consideres necesarias. Justifica.\n",
        "1. Evalúa de forma apropiada sus resultados. Justifica la métrica elegida.\n",
        "1. Elige un modelo benchmark y compara tus resultados con este modelo.\n",
        "1. Optimiza los hiperparámetros de tu modelo.\n",
        "\n",
        "Puedes implementar un filtro colaborativo a partir de la similitud coseno o índice de Jaccard. ¿Puedes utilizar los métodos de la librería Surprise? Si no es así, busca implementaciones (por ejemplo, nuevas librerías) que sean apropiadas.\n",
        "\n",
        "Para comenzar a trabajar, puedes asumir que cada entrada es un enlace entre una persona usuaria y un item, **independientemente** de si la crítica es buena o mala. \n",
        "\n",
        "### Para pensar, investigar y, opcionalmente, implementar\n",
        "1. ¿Cómo harías para ponerle un valor a la calificación?\n",
        "1. ¿Cómo harías para agregar contenido? Por ejemplo, cuentas con el género, precio, fecha de lanzamiento y más información de los juegos.\n",
        "1. ¿Hay algo que te gustaría investigar o probar?\n",
        "\n",
        "### **¡Tómate tiempo para investigar y leer mucho!**"
      ]
    },
    {
      "cell_type": "markdown",
      "metadata": {
        "id": "K3PbIf64mLMC"
      },
      "source": [
        "#Exploración de datos"
      ]
    },
    {
      "cell_type": "markdown",
      "metadata": {
        "id": "Wzw-QE7cmctM"
      },
      "source": [
        "Montamos el contenido de drive"
      ]
    },
    {
      "cell_type": "code",
      "metadata": {
        "colab": {
          "base_uri": "https://localhost:8080/"
        },
        "id": "AOphyY9u5QKg",
        "outputId": "bc0cb7cf-61e8-49a8-de31-95d24e4b07a2"
      },
      "source": [
        "from google.colab import drive\n",
        "drive.mount('/content/drive')"
      ],
      "execution_count": null,
      "outputs": [
        {
          "output_type": "stream",
          "name": "stdout",
          "text": [
            "Drive already mounted at /content/drive; to attempt to forcibly remount, call drive.mount(\"/content/drive\", force_remount=True).\n"
          ]
        }
      ]
    },
    {
      "cell_type": "code",
      "metadata": {
        "id": "N_4Il8T0Jedm"
      },
      "source": [
        "import numpy as np\n",
        "import gc\n",
        "import matplotlib.pyplot as plt\n",
        "import seaborn as sns\n",
        "sns.set()"
      ],
      "execution_count": null,
      "outputs": []
    },
    {
      "cell_type": "code",
      "metadata": {
        "id": "lWZhtUxEWTzj"
      },
      "source": [
        "import gzip\n",
        "import pandas as pd\n",
        "\n",
        "def parse(path):\n",
        "    g = gzip.open(path, 'r')\n",
        "    for l in g:\n",
        "        yield eval(l)"
      ],
      "execution_count": null,
      "outputs": []
    },
    {
      "cell_type": "markdown",
      "metadata": {
        "id": "MCnJdN7rqrPy"
      },
      "source": [
        "**Variables PATH**\n",
        "\n",
        "Definimos variables con el path de los datasets:"
      ]
    },
    {
      "cell_type": "code",
      "metadata": {
        "id": "pY3q7mnD5sdL"
      },
      "source": [
        "# Path dataset de reviews comprimido gz\n",
        "PATH_DATASET_REVIEWS_GZ = '/content/drive/MyDrive/Colab Notebooks/proyecto03/steam_reviews.json.gz'\n",
        "# Path dataset de reviews formato csv\n",
        "PATH_DATASET_REVIEWS_CSV = '/content/drive/MyDrive/Colab Notebooks/proyecto03/reviews.csv'\n",
        "# Path dataset de games comprimido gz\n",
        "PATH_DATASET_GAMES_GZ = '/content/drive/MyDrive/Colab Notebooks/proyecto03/steam_games.json.gz'\n",
        "# Path dataset de games formato csv\n",
        "PATH_DATASET_GAMES_CSV = '/content/drive/MyDrive/Colab Notebooks/proyecto03/games.csv'"
      ],
      "execution_count": null,
      "outputs": []
    },
    {
      "cell_type": "markdown",
      "metadata": {
        "id": "9vR7V6SeNeTR"
      },
      "source": [
        "**Usar datasets preprocesados**\n",
        "\n",
        "Si se quiere utilizar datos preprocesados, pasar a la sección `\"Leer datos procesados Review\"` y `\"Leer datos procesados Games\"`, y no ejecutar las secciones `\"Procesar datos Review\"` y `\"Procesar datos Games\"`."
      ]
    },
    {
      "cell_type": "markdown",
      "metadata": {
        "id": "GB4NLMrz1UAw"
      },
      "source": [
        "#### Procesar datos Review"
      ]
    },
    {
      "cell_type": "markdown",
      "metadata": {
        "id": "BmEM25k4WTzw"
      },
      "source": [
        "**Reviews**"
      ]
    },
    {
      "cell_type": "code",
      "metadata": {
        "id": "abAXItn1WTz0"
      },
      "source": [
        "contador = 0\n",
        "data_reviews = []\n",
        "# Vamos a guardar una de cada 10 reviews para no llenar la memoria RAM. Si pones n = 3, \n",
        "# abrira uno de cada tres, y asi.\n",
        "n = 10\n",
        "for l in parse(PATH_DATASET_REVIEWS_GZ):\n",
        "    if contador%n == 0:\n",
        "        data_reviews.append(l)\n",
        "    else:\n",
        "        pass\n",
        "    contador += 1\n",
        "pd_data_reviews = pd.DataFrame(data_reviews)\n"
      ],
      "execution_count": null,
      "outputs": []
    },
    {
      "cell_type": "markdown",
      "metadata": {
        "id": "qbcFylSFi1lh"
      },
      "source": [
        "Liberamos memoria"
      ]
    },
    {
      "cell_type": "code",
      "metadata": {
        "id": "RdoH3GDnqYkk",
        "colab": {
          "base_uri": "https://localhost:8080/"
        },
        "outputId": "066a468e-a247-4a16-8f98-85bad63733f4"
      },
      "source": [
        "del data_reviews\n",
        "gc.collect()"
      ],
      "execution_count": null,
      "outputs": [
        {
          "output_type": "execute_result",
          "data": {
            "text/plain": [
              "190"
            ]
          },
          "metadata": {},
          "execution_count": 214
        }
      ]
    },
    {
      "cell_type": "markdown",
      "metadata": {
        "id": "Jt8M4ROyj-H7"
      },
      "source": [
        "Exploramos algunos registros del dataset de reviews"
      ]
    },
    {
      "cell_type": "code",
      "metadata": {
        "colab": {
          "base_uri": "https://localhost:8080/",
          "height": 549
        },
        "id": "PNNCQ__cbI-Q",
        "outputId": "104eeb06-5a6b-4c23-9508-1e2eae62cb36"
      },
      "source": [
        "pd_data_reviews.head(10)"
      ],
      "execution_count": null,
      "outputs": [
        {
          "output_type": "execute_result",
          "data": {
            "text/html": [
              "<div>\n",
              "<style scoped>\n",
              "    .dataframe tbody tr th:only-of-type {\n",
              "        vertical-align: middle;\n",
              "    }\n",
              "\n",
              "    .dataframe tbody tr th {\n",
              "        vertical-align: top;\n",
              "    }\n",
              "\n",
              "    .dataframe thead th {\n",
              "        text-align: right;\n",
              "    }\n",
              "</style>\n",
              "<table border=\"1\" class=\"dataframe\">\n",
              "  <thead>\n",
              "    <tr style=\"text-align: right;\">\n",
              "      <th></th>\n",
              "      <th>username</th>\n",
              "      <th>hours</th>\n",
              "      <th>products</th>\n",
              "      <th>product_id</th>\n",
              "      <th>page_order</th>\n",
              "      <th>date</th>\n",
              "      <th>text</th>\n",
              "      <th>early_access</th>\n",
              "      <th>page</th>\n",
              "      <th>user_id</th>\n",
              "      <th>compensation</th>\n",
              "      <th>found_funny</th>\n",
              "    </tr>\n",
              "  </thead>\n",
              "  <tbody>\n",
              "    <tr>\n",
              "      <th>0</th>\n",
              "      <td>Chaos Syren</td>\n",
              "      <td>0.1</td>\n",
              "      <td>41.0</td>\n",
              "      <td>725280</td>\n",
              "      <td>0</td>\n",
              "      <td>2017-12-17</td>\n",
              "      <td>This would not be acceptable as an entertainme...</td>\n",
              "      <td>False</td>\n",
              "      <td>1</td>\n",
              "      <td>NaN</td>\n",
              "      <td>NaN</td>\n",
              "      <td>NaN</td>\n",
              "    </tr>\n",
              "    <tr>\n",
              "      <th>1</th>\n",
              "      <td>Ariman1</td>\n",
              "      <td>13.2</td>\n",
              "      <td>1386.0</td>\n",
              "      <td>328100</td>\n",
              "      <td>2</td>\n",
              "      <td>2017-08-02</td>\n",
              "      <td>Addictive RPG ! Works fine on linux though it ...</td>\n",
              "      <td>False</td>\n",
              "      <td>1</td>\n",
              "      <td>NaN</td>\n",
              "      <td>NaN</td>\n",
              "      <td>NaN</td>\n",
              "    </tr>\n",
              "    <tr>\n",
              "      <th>2</th>\n",
              "      <td>freakfantom</td>\n",
              "      <td>0.1</td>\n",
              "      <td>1706.0</td>\n",
              "      <td>725280</td>\n",
              "      <td>5</td>\n",
              "      <td>2017-11-12</td>\n",
              "      <td>Прикольная стрелялка. Взял дешево на распродаже.</td>\n",
              "      <td>False</td>\n",
              "      <td>1</td>\n",
              "      <td>NaN</td>\n",
              "      <td>NaN</td>\n",
              "      <td>NaN</td>\n",
              "    </tr>\n",
              "    <tr>\n",
              "      <th>3</th>\n",
              "      <td>The_Cpt_FROGGY</td>\n",
              "      <td>7.8</td>\n",
              "      <td>2217.0</td>\n",
              "      <td>631920</td>\n",
              "      <td>0</td>\n",
              "      <td>2017-12-11</td>\n",
              "      <td>Somewhere on Zibylon:\\n~~~~~~~~~~~~~~~~~~\\nZib...</td>\n",
              "      <td>False</td>\n",
              "      <td>1</td>\n",
              "      <td>76561198003030375</td>\n",
              "      <td>Product received for free</td>\n",
              "      <td>NaN</td>\n",
              "    </tr>\n",
              "    <tr>\n",
              "      <th>4</th>\n",
              "      <td>the_maker988</td>\n",
              "      <td>8.2</td>\n",
              "      <td>18.0</td>\n",
              "      <td>35140</td>\n",
              "      <td>7</td>\n",
              "      <td>2018-01-02</td>\n",
              "      <td>This game was way to linear for me, and compar...</td>\n",
              "      <td>False</td>\n",
              "      <td>1</td>\n",
              "      <td>76561198353396844</td>\n",
              "      <td>NaN</td>\n",
              "      <td>NaN</td>\n",
              "    </tr>\n",
              "    <tr>\n",
              "      <th>5</th>\n",
              "      <td>Szudof</td>\n",
              "      <td>0.2</td>\n",
              "      <td>155.0</td>\n",
              "      <td>288690</td>\n",
              "      <td>0</td>\n",
              "      <td>2016-08-31</td>\n",
              "      <td>&lt;23:32:55&gt; \"Pit\": Hello, my name is dominik di...</td>\n",
              "      <td>False</td>\n",
              "      <td>1</td>\n",
              "      <td>NaN</td>\n",
              "      <td>Product received for free</td>\n",
              "      <td>3.0</td>\n",
              "    </tr>\n",
              "    <tr>\n",
              "      <th>6</th>\n",
              "      <td>Vonder</td>\n",
              "      <td>2.7</td>\n",
              "      <td>264.0</td>\n",
              "      <td>35600</td>\n",
              "      <td>3</td>\n",
              "      <td>2017-04-15</td>\n",
              "      <td>I like the art style and the idea but what a b...</td>\n",
              "      <td>False</td>\n",
              "      <td>1</td>\n",
              "      <td>76561198113497324</td>\n",
              "      <td>NaN</td>\n",
              "      <td>NaN</td>\n",
              "    </tr>\n",
              "    <tr>\n",
              "      <th>7</th>\n",
              "      <td>LucaFox</td>\n",
              "      <td>4.0</td>\n",
              "      <td>136.0</td>\n",
              "      <td>620900</td>\n",
              "      <td>3</td>\n",
              "      <td>2017-09-11</td>\n",
              "      <td>Very, very good game. I love dungeon crawlers,...</td>\n",
              "      <td>False</td>\n",
              "      <td>1</td>\n",
              "      <td>76561198146674484</td>\n",
              "      <td>NaN</td>\n",
              "      <td>1.0</td>\n",
              "    </tr>\n",
              "    <tr>\n",
              "      <th>8</th>\n",
              "      <td>rampage1209</td>\n",
              "      <td>34.8</td>\n",
              "      <td>3.0</td>\n",
              "      <td>1840</td>\n",
              "      <td>4</td>\n",
              "      <td>2018-01-04</td>\n",
              "      <td>WAY PAST COOL</td>\n",
              "      <td>False</td>\n",
              "      <td>1</td>\n",
              "      <td>76561198080474371</td>\n",
              "      <td>NaN</td>\n",
              "      <td>NaN</td>\n",
              "    </tr>\n",
              "    <tr>\n",
              "      <th>9</th>\n",
              "      <td>Devil Azite</td>\n",
              "      <td>0.1</td>\n",
              "      <td>548.0</td>\n",
              "      <td>671270</td>\n",
              "      <td>5</td>\n",
              "      <td>2017-07-09</td>\n",
              "      <td>Putting a hat on your head has disasterous rep...</td>\n",
              "      <td>False</td>\n",
              "      <td>1</td>\n",
              "      <td>NaN</td>\n",
              "      <td>Product received for free</td>\n",
              "      <td>1.0</td>\n",
              "    </tr>\n",
              "  </tbody>\n",
              "</table>\n",
              "</div>"
            ],
            "text/plain": [
              "         username  hours  ...               compensation found_funny\n",
              "0     Chaos Syren    0.1  ...                        NaN         NaN\n",
              "1         Ariman1   13.2  ...                        NaN         NaN\n",
              "2     freakfantom    0.1  ...                        NaN         NaN\n",
              "3  The_Cpt_FROGGY    7.8  ...  Product received for free         NaN\n",
              "4    the_maker988    8.2  ...                        NaN         NaN\n",
              "5          Szudof    0.2  ...  Product received for free         3.0\n",
              "6          Vonder    2.7  ...                        NaN         NaN\n",
              "7         LucaFox    4.0  ...                        NaN         1.0\n",
              "8     rampage1209   34.8  ...                        NaN         NaN\n",
              "9     Devil Azite    0.1  ...  Product received for free         1.0\n",
              "\n",
              "[10 rows x 12 columns]"
            ]
          },
          "metadata": {},
          "execution_count": 215
        }
      ]
    },
    {
      "cell_type": "code",
      "metadata": {
        "colab": {
          "base_uri": "https://localhost:8080/",
          "height": 1000
        },
        "id": "-9N1eZzSf4Bu",
        "outputId": "05a27f12-5c9f-4132-a413-4970091d8480"
      },
      "source": [
        "pd_data_reviews.sample(20)"
      ],
      "execution_count": null,
      "outputs": [
        {
          "output_type": "execute_result",
          "data": {
            "text/html": [
              "<div>\n",
              "<style scoped>\n",
              "    .dataframe tbody tr th:only-of-type {\n",
              "        vertical-align: middle;\n",
              "    }\n",
              "\n",
              "    .dataframe tbody tr th {\n",
              "        vertical-align: top;\n",
              "    }\n",
              "\n",
              "    .dataframe thead th {\n",
              "        text-align: right;\n",
              "    }\n",
              "</style>\n",
              "<table border=\"1\" class=\"dataframe\">\n",
              "  <thead>\n",
              "    <tr style=\"text-align: right;\">\n",
              "      <th></th>\n",
              "      <th>username</th>\n",
              "      <th>hours</th>\n",
              "      <th>products</th>\n",
              "      <th>product_id</th>\n",
              "      <th>page_order</th>\n",
              "      <th>date</th>\n",
              "      <th>text</th>\n",
              "      <th>early_access</th>\n",
              "      <th>page</th>\n",
              "      <th>user_id</th>\n",
              "      <th>compensation</th>\n",
              "      <th>found_funny</th>\n",
              "    </tr>\n",
              "  </thead>\n",
              "  <tbody>\n",
              "    <tr>\n",
              "      <th>668045</th>\n",
              "      <td>Zohar</td>\n",
              "      <td>8.9</td>\n",
              "      <td>214.0</td>\n",
              "      <td>6000</td>\n",
              "      <td>6</td>\n",
              "      <td>2015-11-27</td>\n",
              "      <td>Incredibly short, but still a great game</td>\n",
              "      <td>False</td>\n",
              "      <td>222</td>\n",
              "      <td>NaN</td>\n",
              "      <td>NaN</td>\n",
              "      <td>NaN</td>\n",
              "    </tr>\n",
              "    <tr>\n",
              "      <th>420538</th>\n",
              "      <td>vista_sucks</td>\n",
              "      <td>21.9</td>\n",
              "      <td>1553.0</td>\n",
              "      <td>15130</td>\n",
              "      <td>1</td>\n",
              "      <td>2016-11-25</td>\n",
              "      <td>Great Story\\nGreat Gameplay\\nStill Playing it ...</td>\n",
              "      <td>False</td>\n",
              "      <td>21</td>\n",
              "      <td>76561198040604448</td>\n",
              "      <td>NaN</td>\n",
              "      <td>NaN</td>\n",
              "    </tr>\n",
              "    <tr>\n",
              "      <th>718701</th>\n",
              "      <td>Lord Beor</td>\n",
              "      <td>7.1</td>\n",
              "      <td>89.0</td>\n",
              "      <td>361420</td>\n",
              "      <td>5</td>\n",
              "      <td>2017-09-22</td>\n",
              "      <td>sigh....\\nAnother early access mess.\\nProgress...</td>\n",
              "      <td>True</td>\n",
              "      <td>130</td>\n",
              "      <td>NaN</td>\n",
              "      <td>NaN</td>\n",
              "      <td>1.0</td>\n",
              "    </tr>\n",
              "    <tr>\n",
              "      <th>109996</th>\n",
              "      <td>MrHonestFool</td>\n",
              "      <td>0.3</td>\n",
              "      <td>226.0</td>\n",
              "      <td>104900</td>\n",
              "      <td>8</td>\n",
              "      <td>2016-06-24</td>\n",
              "      <td>Mmmmm i wouldnt say it's bad..  but i wouldnt ...</td>\n",
              "      <td>False</td>\n",
              "      <td>263</td>\n",
              "      <td>NaN</td>\n",
              "      <td>NaN</td>\n",
              "      <td>NaN</td>\n",
              "    </tr>\n",
              "    <tr>\n",
              "      <th>721905</th>\n",
              "      <td>SPECTER1987</td>\n",
              "      <td>25.1</td>\n",
              "      <td>NaN</td>\n",
              "      <td>224260</td>\n",
              "      <td>8</td>\n",
              "      <td>2014-05-10</td>\n",
              "      <td>definetly the best 3d zombie game i have ever ...</td>\n",
              "      <td>False</td>\n",
              "      <td>1585</td>\n",
              "      <td>NaN</td>\n",
              "      <td>NaN</td>\n",
              "      <td>NaN</td>\n",
              "    </tr>\n",
              "    <tr>\n",
              "      <th>426798</th>\n",
              "      <td>UnlikelyheroXenohart</td>\n",
              "      <td>18.6</td>\n",
              "      <td>352.0</td>\n",
              "      <td>251130</td>\n",
              "      <td>2</td>\n",
              "      <td>2016-04-08</td>\n",
              "      <td>Very easy to recommend this title to anyone wh...</td>\n",
              "      <td>False</td>\n",
              "      <td>75</td>\n",
              "      <td>NaN</td>\n",
              "      <td>NaN</td>\n",
              "      <td>NaN</td>\n",
              "    </tr>\n",
              "    <tr>\n",
              "      <th>127602</th>\n",
              "      <td>Barnabus Flash</td>\n",
              "      <td>58.8</td>\n",
              "      <td>56.0</td>\n",
              "      <td>113200</td>\n",
              "      <td>1</td>\n",
              "      <td>2013-12-24</td>\n",
              "      <td>This game is great. If you ever wanted an old-...</td>\n",
              "      <td>False</td>\n",
              "      <td>1692</td>\n",
              "      <td>76561197987855455</td>\n",
              "      <td>NaN</td>\n",
              "      <td>NaN</td>\n",
              "    </tr>\n",
              "    <tr>\n",
              "      <th>305648</th>\n",
              "      <td>TacoPaco</td>\n",
              "      <td>53.6</td>\n",
              "      <td>103.0</td>\n",
              "      <td>221380</td>\n",
              "      <td>8</td>\n",
              "      <td>2014-07-01</td>\n",
              "      <td>This game... There is alot to say about it. I ...</td>\n",
              "      <td>False</td>\n",
              "      <td>1735</td>\n",
              "      <td>NaN</td>\n",
              "      <td>NaN</td>\n",
              "      <td>NaN</td>\n",
              "    </tr>\n",
              "    <tr>\n",
              "      <th>612318</th>\n",
              "      <td>mr shago</td>\n",
              "      <td>111.2</td>\n",
              "      <td>85.0</td>\n",
              "      <td>212680</td>\n",
              "      <td>4</td>\n",
              "      <td>2015-06-17</td>\n",
              "      <td>Its very fun with lots of difficulty that peop...</td>\n",
              "      <td>False</td>\n",
              "      <td>1136</td>\n",
              "      <td>76561198014302345</td>\n",
              "      <td>NaN</td>\n",
              "      <td>NaN</td>\n",
              "    </tr>\n",
              "    <tr>\n",
              "      <th>388179</th>\n",
              "      <td>gimp</td>\n",
              "      <td>0.3</td>\n",
              "      <td>41.0</td>\n",
              "      <td>440</td>\n",
              "      <td>2</td>\n",
              "      <td>2016-02-10</td>\n",
              "      <td>good game</td>\n",
              "      <td>False</td>\n",
              "      <td>9705</td>\n",
              "      <td>76561198114551056</td>\n",
              "      <td>NaN</td>\n",
              "      <td>NaN</td>\n",
              "    </tr>\n",
              "    <tr>\n",
              "      <th>594662</th>\n",
              "      <td>Dinky</td>\n",
              "      <td>13.9</td>\n",
              "      <td>250.0</td>\n",
              "      <td>261760</td>\n",
              "      <td>7</td>\n",
              "      <td>2016-06-28</td>\n",
              "      <td>If you're on the fence about buying the game a...</td>\n",
              "      <td>False</td>\n",
              "      <td>37</td>\n",
              "      <td>NaN</td>\n",
              "      <td>NaN</td>\n",
              "      <td>NaN</td>\n",
              "    </tr>\n",
              "    <tr>\n",
              "      <th>160287</th>\n",
              "      <td>LiteLime</td>\n",
              "      <td>6.6</td>\n",
              "      <td>429.0</td>\n",
              "      <td>476240</td>\n",
              "      <td>3</td>\n",
              "      <td>2016-08-11</td>\n",
              "      <td>Pros: -Good Puzzles that aren't frustrating\\n-...</td>\n",
              "      <td>False</td>\n",
              "      <td>16</td>\n",
              "      <td>NaN</td>\n",
              "      <td>NaN</td>\n",
              "      <td>NaN</td>\n",
              "    </tr>\n",
              "    <tr>\n",
              "      <th>36410</th>\n",
              "      <td>[OSF]Cothonian</td>\n",
              "      <td>186.0</td>\n",
              "      <td>108.0</td>\n",
              "      <td>251060</td>\n",
              "      <td>2</td>\n",
              "      <td>2017-03-19</td>\n",
              "      <td>Probably the best RTS I have ever played, only...</td>\n",
              "      <td>False</td>\n",
              "      <td>50</td>\n",
              "      <td>NaN</td>\n",
              "      <td>NaN</td>\n",
              "      <td>NaN</td>\n",
              "    </tr>\n",
              "    <tr>\n",
              "      <th>759303</th>\n",
              "      <td>G6 Regalia</td>\n",
              "      <td>239.3</td>\n",
              "      <td>78.0</td>\n",
              "      <td>221100</td>\n",
              "      <td>9</td>\n",
              "      <td>2017-03-11</td>\n",
              "      <td>lag 9/10</td>\n",
              "      <td>True</td>\n",
              "      <td>972</td>\n",
              "      <td>NaN</td>\n",
              "      <td>NaN</td>\n",
              "      <td>2.0</td>\n",
              "    </tr>\n",
              "    <tr>\n",
              "      <th>158876</th>\n",
              "      <td>ACE</td>\n",
              "      <td>6.7</td>\n",
              "      <td>170.0</td>\n",
              "      <td>319630</td>\n",
              "      <td>2</td>\n",
              "      <td>2015-06-18</td>\n",
              "      <td>This game is really awesome!!!!</td>\n",
              "      <td>False</td>\n",
              "      <td>4416</td>\n",
              "      <td>NaN</td>\n",
              "      <td>NaN</td>\n",
              "      <td>NaN</td>\n",
              "    </tr>\n",
              "    <tr>\n",
              "      <th>131788</th>\n",
              "      <td>Dr_Faceless</td>\n",
              "      <td>23.9</td>\n",
              "      <td>141.0</td>\n",
              "      <td>20920</td>\n",
              "      <td>3</td>\n",
              "      <td>2014-02-13</td>\n",
              "      <td>If there is ever a game you had to play, it's ...</td>\n",
              "      <td>False</td>\n",
              "      <td>1129</td>\n",
              "      <td>76561198012371768</td>\n",
              "      <td>NaN</td>\n",
              "      <td>NaN</td>\n",
              "    </tr>\n",
              "    <tr>\n",
              "      <th>68920</th>\n",
              "      <td>Cricktron</td>\n",
              "      <td>375.0</td>\n",
              "      <td>63.0</td>\n",
              "      <td>48700</td>\n",
              "      <td>1</td>\n",
              "      <td>2014-11-27</td>\n",
              "      <td>This game is very good, graphics are indeed da...</td>\n",
              "      <td>False</td>\n",
              "      <td>2417</td>\n",
              "      <td>76561198109595528</td>\n",
              "      <td>NaN</td>\n",
              "      <td>NaN</td>\n",
              "    </tr>\n",
              "    <tr>\n",
              "      <th>167900</th>\n",
              "      <td>Rocaar</td>\n",
              "      <td>150.0</td>\n",
              "      <td>174.0</td>\n",
              "      <td>201790</td>\n",
              "      <td>8</td>\n",
              "      <td>2014-03-17</td>\n",
              "      <td>Incredible replay value. I spent so many hours...</td>\n",
              "      <td>False</td>\n",
              "      <td>418</td>\n",
              "      <td>NaN</td>\n",
              "      <td>NaN</td>\n",
              "      <td>NaN</td>\n",
              "    </tr>\n",
              "    <tr>\n",
              "      <th>760189</th>\n",
              "      <td>SovietRooshuh</td>\n",
              "      <td>257.8</td>\n",
              "      <td>59.0</td>\n",
              "      <td>49520</td>\n",
              "      <td>0</td>\n",
              "      <td>2014-09-01</td>\n",
              "      <td>There's so much to do, so much to explore. Lov...</td>\n",
              "      <td>False</td>\n",
              "      <td>4523</td>\n",
              "      <td>76561198070330970</td>\n",
              "      <td>NaN</td>\n",
              "      <td>NaN</td>\n",
              "    </tr>\n",
              "    <tr>\n",
              "      <th>517988</th>\n",
              "      <td>テトジ Tetoji</td>\n",
              "      <td>39.2</td>\n",
              "      <td>19.0</td>\n",
              "      <td>363970</td>\n",
              "      <td>3</td>\n",
              "      <td>2017-12-17</td>\n",
              "      <td>This game takes so ♥♥♥♥ing long to get it fini...</td>\n",
              "      <td>False</td>\n",
              "      <td>15</td>\n",
              "      <td>NaN</td>\n",
              "      <td>NaN</td>\n",
              "      <td>NaN</td>\n",
              "    </tr>\n",
              "  </tbody>\n",
              "</table>\n",
              "</div>"
            ],
            "text/plain": [
              "                    username  hours  ...  compensation found_funny\n",
              "668045                 Zohar    8.9  ...           NaN         NaN\n",
              "420538           vista_sucks   21.9  ...           NaN         NaN\n",
              "718701             Lord Beor    7.1  ...           NaN         1.0\n",
              "109996          MrHonestFool    0.3  ...           NaN         NaN\n",
              "721905           SPECTER1987   25.1  ...           NaN         NaN\n",
              "426798  UnlikelyheroXenohart   18.6  ...           NaN         NaN\n",
              "127602        Barnabus Flash   58.8  ...           NaN         NaN\n",
              "305648              TacoPaco   53.6  ...           NaN         NaN\n",
              "612318              mr shago  111.2  ...           NaN         NaN\n",
              "388179                  gimp    0.3  ...           NaN         NaN\n",
              "594662                 Dinky   13.9  ...           NaN         NaN\n",
              "160287              LiteLime    6.6  ...           NaN         NaN\n",
              "36410         [OSF]Cothonian  186.0  ...           NaN         NaN\n",
              "759303            G6 Regalia  239.3  ...           NaN         2.0\n",
              "158876                   ACE    6.7  ...           NaN         NaN\n",
              "131788           Dr_Faceless   23.9  ...           NaN         NaN\n",
              "68920              Cricktron  375.0  ...           NaN         NaN\n",
              "167900                Rocaar  150.0  ...           NaN         NaN\n",
              "760189         SovietRooshuh  257.8  ...           NaN         NaN\n",
              "517988            テトジ Tetoji   39.2  ...           NaN         NaN\n",
              "\n",
              "[20 rows x 12 columns]"
            ]
          },
          "metadata": {},
          "execution_count": 216
        }
      ]
    },
    {
      "cell_type": "code",
      "metadata": {
        "colab": {
          "base_uri": "https://localhost:8080/",
          "height": 297
        },
        "id": "nPE4t60w8fLA",
        "outputId": "ee09e6fe-9cc4-4120-b8a0-da3eecabcb48"
      },
      "source": [
        "pd_data_reviews.describe()"
      ],
      "execution_count": null,
      "outputs": [
        {
          "output_type": "execute_result",
          "data": {
            "text/html": [
              "<div>\n",
              "<style scoped>\n",
              "    .dataframe tbody tr th:only-of-type {\n",
              "        vertical-align: middle;\n",
              "    }\n",
              "\n",
              "    .dataframe tbody tr th {\n",
              "        vertical-align: top;\n",
              "    }\n",
              "\n",
              "    .dataframe thead th {\n",
              "        text-align: right;\n",
              "    }\n",
              "</style>\n",
              "<table border=\"1\" class=\"dataframe\">\n",
              "  <thead>\n",
              "    <tr style=\"text-align: right;\">\n",
              "      <th></th>\n",
              "      <th>hours</th>\n",
              "      <th>products</th>\n",
              "      <th>page_order</th>\n",
              "      <th>page</th>\n",
              "      <th>found_funny</th>\n",
              "    </tr>\n",
              "  </thead>\n",
              "  <tbody>\n",
              "    <tr>\n",
              "      <th>count</th>\n",
              "      <td>776670.000000</td>\n",
              "      <td>777741.000000</td>\n",
              "      <td>779307.000000</td>\n",
              "      <td>779307.000000</td>\n",
              "      <td>120164.000000</td>\n",
              "    </tr>\n",
              "    <tr>\n",
              "      <th>mean</th>\n",
              "      <td>111.843832</td>\n",
              "      <td>236.993936</td>\n",
              "      <td>4.417743</td>\n",
              "      <td>893.581355</td>\n",
              "      <td>7.713125</td>\n",
              "    </tr>\n",
              "    <tr>\n",
              "      <th>std</th>\n",
              "      <td>390.145376</td>\n",
              "      <td>486.034479</td>\n",
              "      <td>2.897848</td>\n",
              "      <td>1928.272966</td>\n",
              "      <td>72.465816</td>\n",
              "    </tr>\n",
              "    <tr>\n",
              "      <th>min</th>\n",
              "      <td>0.000000</td>\n",
              "      <td>1.000000</td>\n",
              "      <td>0.000000</td>\n",
              "      <td>1.000000</td>\n",
              "      <td>1.000000</td>\n",
              "    </tr>\n",
              "    <tr>\n",
              "      <th>25%</th>\n",
              "      <td>4.000000</td>\n",
              "      <td>45.000000</td>\n",
              "      <td>2.000000</td>\n",
              "      <td>53.000000</td>\n",
              "      <td>1.000000</td>\n",
              "    </tr>\n",
              "    <tr>\n",
              "      <th>50%</th>\n",
              "      <td>15.300000</td>\n",
              "      <td>110.000000</td>\n",
              "      <td>4.000000</td>\n",
              "      <td>238.000000</td>\n",
              "      <td>1.000000</td>\n",
              "    </tr>\n",
              "    <tr>\n",
              "      <th>75%</th>\n",
              "      <td>59.600000</td>\n",
              "      <td>246.000000</td>\n",
              "      <td>7.000000</td>\n",
              "      <td>829.000000</td>\n",
              "      <td>3.000000</td>\n",
              "    </tr>\n",
              "    <tr>\n",
              "      <th>max</th>\n",
              "      <td>28164.000000</td>\n",
              "      <td>13540.000000</td>\n",
              "      <td>9.000000</td>\n",
              "      <td>18371.000000</td>\n",
              "      <td>6524.000000</td>\n",
              "    </tr>\n",
              "  </tbody>\n",
              "</table>\n",
              "</div>"
            ],
            "text/plain": [
              "               hours       products  ...           page    found_funny\n",
              "count  776670.000000  777741.000000  ...  779307.000000  120164.000000\n",
              "mean      111.843832     236.993936  ...     893.581355       7.713125\n",
              "std       390.145376     486.034479  ...    1928.272966      72.465816\n",
              "min         0.000000       1.000000  ...       1.000000       1.000000\n",
              "25%         4.000000      45.000000  ...      53.000000       1.000000\n",
              "50%        15.300000     110.000000  ...     238.000000       1.000000\n",
              "75%        59.600000     246.000000  ...     829.000000       3.000000\n",
              "max     28164.000000   13540.000000  ...   18371.000000    6524.000000\n",
              "\n",
              "[8 rows x 5 columns]"
            ]
          },
          "metadata": {},
          "execution_count": 217
        }
      ]
    },
    {
      "cell_type": "code",
      "metadata": {
        "colab": {
          "base_uri": "https://localhost:8080/",
          "height": 297
        },
        "id": "MMLvo0bDcV6K",
        "outputId": "5ef23301-f2de-4758-8dfb-740cbfb1b04f"
      },
      "source": [
        "pd_data_reviews.describe()"
      ],
      "execution_count": null,
      "outputs": [
        {
          "output_type": "execute_result",
          "data": {
            "text/html": [
              "<div>\n",
              "<style scoped>\n",
              "    .dataframe tbody tr th:only-of-type {\n",
              "        vertical-align: middle;\n",
              "    }\n",
              "\n",
              "    .dataframe tbody tr th {\n",
              "        vertical-align: top;\n",
              "    }\n",
              "\n",
              "    .dataframe thead th {\n",
              "        text-align: right;\n",
              "    }\n",
              "</style>\n",
              "<table border=\"1\" class=\"dataframe\">\n",
              "  <thead>\n",
              "    <tr style=\"text-align: right;\">\n",
              "      <th></th>\n",
              "      <th>hours</th>\n",
              "      <th>products</th>\n",
              "      <th>page_order</th>\n",
              "      <th>page</th>\n",
              "      <th>found_funny</th>\n",
              "    </tr>\n",
              "  </thead>\n",
              "  <tbody>\n",
              "    <tr>\n",
              "      <th>count</th>\n",
              "      <td>776670.000000</td>\n",
              "      <td>777741.000000</td>\n",
              "      <td>779307.000000</td>\n",
              "      <td>779307.000000</td>\n",
              "      <td>120164.000000</td>\n",
              "    </tr>\n",
              "    <tr>\n",
              "      <th>mean</th>\n",
              "      <td>111.843832</td>\n",
              "      <td>236.993936</td>\n",
              "      <td>4.417743</td>\n",
              "      <td>893.581355</td>\n",
              "      <td>7.713125</td>\n",
              "    </tr>\n",
              "    <tr>\n",
              "      <th>std</th>\n",
              "      <td>390.145376</td>\n",
              "      <td>486.034479</td>\n",
              "      <td>2.897848</td>\n",
              "      <td>1928.272966</td>\n",
              "      <td>72.465816</td>\n",
              "    </tr>\n",
              "    <tr>\n",
              "      <th>min</th>\n",
              "      <td>0.000000</td>\n",
              "      <td>1.000000</td>\n",
              "      <td>0.000000</td>\n",
              "      <td>1.000000</td>\n",
              "      <td>1.000000</td>\n",
              "    </tr>\n",
              "    <tr>\n",
              "      <th>25%</th>\n",
              "      <td>4.000000</td>\n",
              "      <td>45.000000</td>\n",
              "      <td>2.000000</td>\n",
              "      <td>53.000000</td>\n",
              "      <td>1.000000</td>\n",
              "    </tr>\n",
              "    <tr>\n",
              "      <th>50%</th>\n",
              "      <td>15.300000</td>\n",
              "      <td>110.000000</td>\n",
              "      <td>4.000000</td>\n",
              "      <td>238.000000</td>\n",
              "      <td>1.000000</td>\n",
              "    </tr>\n",
              "    <tr>\n",
              "      <th>75%</th>\n",
              "      <td>59.600000</td>\n",
              "      <td>246.000000</td>\n",
              "      <td>7.000000</td>\n",
              "      <td>829.000000</td>\n",
              "      <td>3.000000</td>\n",
              "    </tr>\n",
              "    <tr>\n",
              "      <th>max</th>\n",
              "      <td>28164.000000</td>\n",
              "      <td>13540.000000</td>\n",
              "      <td>9.000000</td>\n",
              "      <td>18371.000000</td>\n",
              "      <td>6524.000000</td>\n",
              "    </tr>\n",
              "  </tbody>\n",
              "</table>\n",
              "</div>"
            ],
            "text/plain": [
              "               hours       products  ...           page    found_funny\n",
              "count  776670.000000  777741.000000  ...  779307.000000  120164.000000\n",
              "mean      111.843832     236.993936  ...     893.581355       7.713125\n",
              "std       390.145376     486.034479  ...    1928.272966      72.465816\n",
              "min         0.000000       1.000000  ...       1.000000       1.000000\n",
              "25%         4.000000      45.000000  ...      53.000000       1.000000\n",
              "50%        15.300000     110.000000  ...     238.000000       1.000000\n",
              "75%        59.600000     246.000000  ...     829.000000       3.000000\n",
              "max     28164.000000   13540.000000  ...   18371.000000    6524.000000\n",
              "\n",
              "[8 rows x 5 columns]"
            ]
          },
          "metadata": {},
          "execution_count": 218
        }
      ]
    },
    {
      "cell_type": "markdown",
      "metadata": {
        "id": "c2Q_WuvQkKpH"
      },
      "source": [
        "Tipos de datos:"
      ]
    },
    {
      "cell_type": "code",
      "metadata": {
        "colab": {
          "base_uri": "https://localhost:8080/"
        },
        "id": "Njz3LiKS9R3v",
        "outputId": "02c8bda7-1c93-414a-edc7-ffd3cfe70745"
      },
      "source": [
        "pd_data_reviews.dtypes"
      ],
      "execution_count": null,
      "outputs": [
        {
          "output_type": "execute_result",
          "data": {
            "text/plain": [
              "username         object\n",
              "hours           float64\n",
              "products        float64\n",
              "product_id       object\n",
              "page_order        int64\n",
              "date             object\n",
              "text             object\n",
              "early_access       bool\n",
              "page              int64\n",
              "user_id          object\n",
              "compensation     object\n",
              "found_funny     float64\n",
              "dtype: object"
            ]
          },
          "metadata": {},
          "execution_count": 219
        }
      ]
    },
    {
      "cell_type": "markdown",
      "metadata": {
        "id": "GzpOhLE2WHLL"
      },
      "source": [
        "Valores nulos:"
      ]
    },
    {
      "cell_type": "code",
      "metadata": {
        "id": "8F-EVRZ4WT0L",
        "colab": {
          "base_uri": "https://localhost:8080/"
        },
        "outputId": "fa45132d-38b3-4aac-ca16-a4edfed4717e"
      },
      "source": [
        "pd_data_reviews.isna().sum()"
      ],
      "execution_count": null,
      "outputs": [
        {
          "output_type": "execute_result",
          "data": {
            "text/plain": [
              "username             0\n",
              "hours             2637\n",
              "products          1566\n",
              "product_id           0\n",
              "page_order           0\n",
              "date                 0\n",
              "text                 0\n",
              "early_access         0\n",
              "page                 0\n",
              "user_id         461967\n",
              "compensation    764719\n",
              "found_funny     659143\n",
              "dtype: int64"
            ]
          },
          "metadata": {},
          "execution_count": 220
        }
      ]
    },
    {
      "cell_type": "markdown",
      "metadata": {
        "id": "0MOoTrj70Zrf"
      },
      "source": [
        "Convertimos la columna `username` a string, ya que al guardar a disco el data procesado y luego al leerlos se generaban valores nulos en la columna `username` que en el dataset no existen."
      ]
    },
    {
      "cell_type": "code",
      "metadata": {
        "id": "mdfx5jmfuDoO"
      },
      "source": [
        "pd_data_reviews.username = pd_data_reviews.username.astype(str)"
      ],
      "execution_count": null,
      "outputs": []
    },
    {
      "cell_type": "code",
      "metadata": {
        "id": "oS2WJGjrxazU"
      },
      "source": [
        "pd_data_reviews.username = pd_data_reviews.username.str.encode('utf-8')"
      ],
      "execution_count": null,
      "outputs": []
    },
    {
      "cell_type": "code",
      "metadata": {
        "colab": {
          "base_uri": "https://localhost:8080/"
        },
        "id": "AWSSJqwyyW1a",
        "outputId": "e1b011cb-466f-4efb-aa03-4b43bb4d32f9"
      },
      "source": [
        "pd_data_reviews.isna().sum()"
      ],
      "execution_count": null,
      "outputs": [
        {
          "output_type": "execute_result",
          "data": {
            "text/plain": [
              "username             0\n",
              "hours             2637\n",
              "products          1566\n",
              "product_id           0\n",
              "page_order           0\n",
              "date                 0\n",
              "text                 0\n",
              "early_access         0\n",
              "page                 0\n",
              "user_id         461967\n",
              "compensation    764719\n",
              "found_funny     659143\n",
              "dtype: int64"
            ]
          },
          "metadata": {},
          "execution_count": 223
        }
      ]
    },
    {
      "cell_type": "markdown",
      "metadata": {
        "id": "o3FrOsLtdRi6"
      },
      "source": [
        "Vemos la cantidad de datos y columnas:"
      ]
    },
    {
      "cell_type": "code",
      "metadata": {
        "colab": {
          "base_uri": "https://localhost:8080/"
        },
        "id": "b1JeAM-VVzr9",
        "outputId": "da989cf5-cfb7-421e-c1fa-018c55c41d8d"
      },
      "source": [
        "pd_data_reviews.shape"
      ],
      "execution_count": null,
      "outputs": [
        {
          "output_type": "execute_result",
          "data": {
            "text/plain": [
              "(779307, 12)"
            ]
          },
          "metadata": {},
          "execution_count": 224
        }
      ]
    },
    {
      "cell_type": "markdown",
      "metadata": {
        "id": "ZvEibmi4llAW"
      },
      "source": [
        "Vemos la el porcentaje de valores faltantes por columna:"
      ]
    },
    {
      "cell_type": "code",
      "metadata": {
        "colab": {
          "base_uri": "https://localhost:8080/",
          "height": 594
        },
        "id": "W_3ONf6SlBlN",
        "outputId": "9f48c29f-4fc4-46bc-ea67-2df44a689e9b"
      },
      "source": [
        "((pd_data_reviews.isnull().sum()/len(pd_data_reviews))*100).sort_values(ascending=True).plot(kind='barh',figsize=(10,10))\n",
        "plt.grid(b=True, which='both')"
      ],
      "execution_count": null,
      "outputs": [
        {
          "output_type": "display_data",
          "data": {
            "image/png": "[encoded data removed]",
            "text/plain": [
              "<Figure size 720x720 with 1 Axes>"
            ]
          },
          "metadata": {}
        }
      ]
    },
    {
      "cell_type": "markdown",
      "metadata": {
        "id": "XkDFVPWAlpGt"
      },
      "source": [
        "Podemos notar que la columna `'compensation'` tiene casi el 100% de valores faltantes."
      ]
    },
    {
      "cell_type": "markdown",
      "metadata": {
        "id": "GxwufoLklyoN"
      },
      "source": [
        "Analizamos la columna `compensation`:"
      ]
    },
    {
      "cell_type": "code",
      "metadata": {
        "colab": {
          "base_uri": "https://localhost:8080/"
        },
        "id": "UKBns8P4l5Df",
        "outputId": "7a20fe07-fc8a-4f4e-ebaf-6002e8f0b87c"
      },
      "source": [
        "pd_data_reviews.compensation.unique()"
      ],
      "execution_count": null,
      "outputs": [
        {
          "output_type": "execute_result",
          "data": {
            "text/plain": [
              "array([nan, 'Product received for free'], dtype=object)"
            ]
          },
          "metadata": {},
          "execution_count": 226
        }
      ]
    },
    {
      "cell_type": "code",
      "metadata": {
        "colab": {
          "base_uri": "https://localhost:8080/"
        },
        "id": "f-YuOdoLmBo7",
        "outputId": "123ab548-783e-4e27-f9c9-8dbf580a9074"
      },
      "source": [
        "pd_data_reviews.compensation.describe()"
      ],
      "execution_count": null,
      "outputs": [
        {
          "output_type": "execute_result",
          "data": {
            "text/plain": [
              "count                         14588\n",
              "unique                            1\n",
              "top       Product received for free\n",
              "freq                          14588\n",
              "Name: compensation, dtype: object"
            ]
          },
          "metadata": {},
          "execution_count": 227
        }
      ]
    },
    {
      "cell_type": "code",
      "metadata": {
        "colab": {
          "base_uri": "https://localhost:8080/"
        },
        "id": "BG6tMW4tmXIx",
        "outputId": "40611be1-b60c-422c-8e7f-9e57f458397e"
      },
      "source": [
        "pd_data_reviews.compensation.isna().sum()"
      ],
      "execution_count": null,
      "outputs": [
        {
          "output_type": "execute_result",
          "data": {
            "text/plain": [
              "764719"
            ]
          },
          "metadata": {},
          "execution_count": 228
        }
      ]
    },
    {
      "cell_type": "markdown",
      "metadata": {
        "id": "FZpN3foHmgTQ"
      },
      "source": [
        "La columna `compensation` tiene un solo valor único `\"Product received for free\"` y valores faltantes."
      ]
    },
    {
      "cell_type": "markdown",
      "metadata": {
        "id": "FZnPwLP4o6xr"
      },
      "source": [
        "Revisamos la columna `'found_funny'`"
      ]
    },
    {
      "cell_type": "code",
      "metadata": {
        "colab": {
          "base_uri": "https://localhost:8080/"
        },
        "id": "j7fG9cvlpEVe",
        "outputId": "ae315cc6-2545-42b9-f61e-5dced6a2cb49"
      },
      "source": [
        "pd_data_reviews.found_funny.unique()"
      ],
      "execution_count": null,
      "outputs": [
        {
          "output_type": "execute_result",
          "data": {
            "text/plain": [
              "array([      nan, 3.000e+00, 1.000e+00, 8.000e+00, 1.200e+01, 4.000e+00,\n",
              "       2.000e+00, 5.000e+00, 7.000e+01, 1.450e+02, 2.700e+01, 2.300e+01,\n",
              "       6.600e+01, 6.000e+00, 9.600e+01, 1.520e+02, 3.700e+01, 1.300e+01,\n",
              "       1.900e+01, 7.000e+00, 2.600e+01, 4.500e+01, 4.100e+01, 6.200e+01,\n",
              "       1.600e+01, 1.390e+02, 1.400e+01, 4.600e+01, 1.100e+01, 9.000e+00,\n",
              "       2.200e+01, 5.200e+01, 1.880e+02, 3.600e+01, 3.300e+01, 1.000e+01,\n",
              "       7.700e+01, 6.400e+01, 3.000e+01, 2.500e+01, 3.100e+01, 8.400e+01,\n",
              "       8.500e+01, 2.400e+01, 3.200e+01, 1.700e+01, 5.600e+01, 9.100e+01,\n",
              "       8.600e+01, 3.500e+01, 8.700e+01, 1.800e+01, 3.900e+01, 2.900e+01,\n",
              "       8.200e+01, 2.000e+01, 1.500e+01, 7.300e+01, 7.200e+01, 1.780e+02,\n",
              "       4.200e+01, 4.300e+02, 1.060e+02, 7.400e+01, 1.800e+02, 2.120e+02,\n",
              "       1.080e+02, 1.110e+02, 4.800e+01, 4.400e+01, 6.000e+01, 1.543e+03,\n",
              "       2.100e+01, 7.900e+01, 1.010e+02, 5.100e+01, 3.880e+02, 2.800e+01,\n",
              "       5.400e+01, 1.810e+02, 1.470e+02, 5.580e+02, 1.220e+02, 2.910e+02,\n",
              "       8.010e+02, 2.180e+02, 8.300e+01, 6.300e+01, 1.190e+02, 1.910e+02,\n",
              "       1.280e+02, 5.200e+02, 4.700e+01, 4.220e+02, 7.100e+01, 6.500e+01,\n",
              "       3.800e+01, 9.000e+01, 3.400e+01, 2.500e+02, 9.200e+01, 1.360e+02,\n",
              "       2.610e+02, 1.540e+02, 7.610e+02, 8.590e+02, 2.340e+02, 1.730e+02,\n",
              "       2.280e+02, 5.570e+02, 3.760e+02, 1.490e+02, 1.930e+02, 1.310e+02,\n",
              "       4.520e+02, 5.700e+01, 1.425e+03, 1.030e+02, 2.050e+02, 3.810e+02,\n",
              "       9.500e+01, 1.990e+02, 5.900e+01, 5.300e+01, 1.870e+02, 2.410e+02,\n",
              "       4.000e+01, 5.500e+01, 1.740e+02, 1.000e+02, 1.320e+02, 5.040e+02,\n",
              "       1.045e+03, 1.980e+02, 9.900e+01, 9.300e+01, 1.070e+02, 5.000e+01,\n",
              "       5.800e+01, 2.810e+02, 3.150e+02, 1.600e+02, 1.090e+02, 1.214e+03,\n",
              "       7.020e+02, 3.020e+02, 3.110e+02, 5.070e+02, 2.800e+02, 1.900e+02,\n",
              "       1.550e+02, 1.270e+02, 1.050e+02, 3.040e+02, 2.190e+02, 6.100e+01,\n",
              "       4.900e+01, 2.480e+02, 4.400e+02, 6.080e+02, 9.300e+02, 1.380e+02,\n",
              "       4.470e+02, 1.410e+02, 6.700e+01, 2.070e+02, 2.270e+02, 3.260e+02,\n",
              "       7.500e+01, 1.850e+02, 9.700e+01, 9.800e+01, 3.410e+02, 6.490e+02,\n",
              "       1.200e+02, 4.300e+01, 1.770e+02, 2.230e+02, 9.990e+02, 6.900e+01,\n",
              "       2.440e+02, 2.510e+02, 1.241e+03, 2.210e+02, 1.872e+03, 6.800e+01,\n",
              "       1.970e+02, 1.890e+02, 2.150e+02, 1.131e+03, 1.140e+02, 1.750e+02,\n",
              "       4.150e+02, 1.250e+02, 7.800e+01, 1.160e+02, 1.170e+02, 1.510e+02,\n",
              "       2.248e+03, 4.010e+02, 4.090e+02, 2.990e+02, 2.770e+02, 2.430e+02,\n",
              "       2.780e+02, 1.210e+02, 2.160e+02, 9.580e+02, 7.090e+02, 1.440e+02,\n",
              "       1.760e+02, 2.450e+02, 1.720e+02, 1.920e+02, 3.100e+02, 4.540e+02,\n",
              "       5.780e+02, 3.920e+02, 2.310e+02, 7.970e+02, 1.439e+03, 3.510e+02,\n",
              "       9.670e+02, 1.130e+02, 1.670e+02, 1.530e+02, 7.620e+02, 2.730e+02,\n",
              "       2.000e+02, 9.160e+02, 5.230e+02, 1.120e+02, 5.810e+02, 7.240e+02,\n",
              "       3.200e+02, 1.420e+02, 3.270e+02, 8.000e+01, 1.470e+03, 1.790e+02,\n",
              "       8.900e+01, 7.600e+01, 2.060e+02, 3.550e+02, 5.430e+02, 1.340e+02,\n",
              "       6.870e+02, 2.620e+02, 7.310e+02, 3.220e+02, 1.027e+03, 2.940e+02,\n",
              "       4.380e+02, 3.330e+02, 1.290e+02, 3.560e+02, 1.150e+02, 3.480e+02,\n",
              "       1.660e+02, 1.005e+03, 1.500e+02, 9.400e+01, 1.300e+02, 3.740e+02,\n",
              "       5.870e+02, 7.650e+02, 1.480e+02, 2.250e+02, 5.940e+02, 1.580e+02,\n",
              "       3.879e+03, 3.231e+03, 3.970e+02, 1.180e+02, 1.330e+02, 2.640e+02,\n",
              "       7.460e+02, 1.148e+03, 5.030e+02, 3.570e+02, 2.740e+02, 1.370e+02,\n",
              "       3.190e+02, 2.870e+02, 4.430e+02, 4.700e+02, 4.230e+02, 2.580e+02,\n",
              "       1.176e+03, 4.670e+02, 2.220e+02, 1.240e+02, 1.680e+02, 1.430e+02,\n",
              "       4.450e+02, 3.250e+02, 2.010e+02, 2.980e+02, 2.720e+02, 5.000e+02,\n",
              "       2.370e+02, 1.620e+02, 4.530e+02, 1.820e+02, 2.020e+02, 1.020e+02,\n",
              "       1.710e+02, 1.650e+02, 2.240e+02, 2.260e+02, 5.890e+02, 2.470e+02,\n",
              "       4.640e+02, 6.277e+03, 9.530e+02, 1.960e+02, 4.800e+02, 3.380e+02,\n",
              "       2.400e+02, 1.400e+02, 2.830e+02, 8.100e+01, 3.630e+02, 2.570e+02,\n",
              "       2.040e+02, 6.780e+02, 5.490e+02, 2.760e+02, 1.560e+02, 7.920e+02,\n",
              "       1.940e+02, 8.800e+01, 3.160e+02, 9.570e+02, 2.030e+02, 4.370e+02,\n",
              "       5.020e+02, 6.170e+02, 8.420e+02, 2.360e+02, 2.390e+02, 1.230e+02,\n",
              "       1.016e+03, 2.540e+02, 6.650e+02, 1.100e+02, 1.557e+03, 2.236e+03,\n",
              "       6.400e+02, 1.590e+02, 5.120e+02, 3.600e+02, 2.140e+02, 4.110e+02,\n",
              "       3.320e+02, 2.380e+02, 2.520e+02, 3.080e+02, 5.060e+02, 2.860e+02,\n",
              "       3.650e+02, 3.910e+02, 6.180e+02, 1.260e+02, 6.050e+02, 1.350e+02,\n",
              "       6.990e+02, 3.840e+02, 1.058e+03, 1.860e+02, 2.590e+02, 9.230e+02,\n",
              "       2.880e+02, 1.977e+03, 5.300e+02, 5.090e+02, 4.940e+02, 1.690e+02,\n",
              "       4.270e+02, 3.087e+03, 9.040e+02, 4.460e+02, 4.790e+02, 1.511e+03,\n",
              "       1.446e+03, 1.061e+03, 3.980e+02, 1.191e+03, 9.730e+02, 1.830e+02,\n",
              "       1.640e+02, 9.000e+02, 4.080e+02, 7.010e+02, 8.740e+02, 3.340e+02,\n",
              "       1.840e+02, 2.630e+02, 3.540e+02, 3.800e+02, 2.650e+02, 1.075e+03,\n",
              "       2.080e+02, 4.970e+02, 8.110e+02, 2.840e+02, 2.300e+02, 3.850e+02,\n",
              "       4.730e+02, 1.588e+03, 1.527e+03, 3.820e+02, 4.020e+02, 5.100e+02,\n",
              "       7.690e+02, 1.040e+02, 7.760e+02, 3.710e+02, 6.410e+02, 4.190e+02,\n",
              "       1.410e+03, 1.184e+03, 3.360e+02, 2.232e+03, 2.900e+02, 3.460e+02,\n",
              "       1.339e+03, 6.120e+02, 9.850e+02, 1.640e+03, 1.331e+03, 4.080e+03,\n",
              "       4.610e+02, 1.498e+03, 7.980e+02, 1.094e+03, 7.380e+02, 4.310e+02,\n",
              "       5.410e+02, 2.560e+02, 9.690e+02, 1.570e+02, 5.080e+02, 6.860e+02,\n",
              "       2.320e+02, 4.100e+02, 4.360e+02, 2.170e+02, 2.290e+02, 3.090e+02,\n",
              "       7.570e+02, 3.690e+02, 3.660e+02, 2.200e+02, 5.690e+02, 4.870e+02,\n",
              "       3.045e+03, 1.190e+03, 8.050e+02, 7.940e+02, 3.761e+03, 3.440e+02,\n",
              "       1.833e+03, 9.370e+02, 2.330e+03, 3.230e+02, 7.050e+02, 1.630e+02,\n",
              "       8.520e+02, 5.630e+02, 4.200e+02, 2.930e+02, 3.490e+02, 2.222e+03,\n",
              "       9.810e+02, 3.940e+02, 4.140e+02, 2.820e+02, 5.920e+02, 1.652e+03,\n",
              "       6.310e+02, 3.288e+03, 4.690e+02, 3.770e+02, 3.900e+02, 9.520e+02,\n",
              "       6.460e+02, 3.170e+02, 1.330e+03, 3.369e+03, 1.651e+03, 2.690e+02,\n",
              "       2.384e+03, 4.180e+02, 3.640e+02, 4.990e+02, 3.420e+02, 1.950e+02,\n",
              "       1.460e+02, 1.751e+03, 4.740e+02, 4.030e+02, 5.790e+02, 2.670e+02,\n",
              "       5.820e+02, 4.850e+02, 7.370e+02, 3.700e+02, 6.220e+02, 2.100e+02,\n",
              "       3.030e+02, 2.259e+03, 8.060e+02, 1.139e+03, 2.710e+02, 5.860e+02,\n",
              "       7.320e+02, 4.170e+02, 2.090e+02, 2.693e+03, 4.290e+02, 1.361e+03,\n",
              "       1.000e+03, 1.196e+03, 2.255e+03, 4.160e+02, 5.190e+02, 3.180e+02,\n",
              "       3.060e+02, 2.420e+02, 5.290e+02, 2.126e+03, 4.440e+02, 1.700e+02,\n",
              "       1.026e+03, 5.510e+02, 9.010e+02, 2.110e+02, 4.600e+02, 8.700e+02,\n",
              "       8.970e+02, 1.610e+02, 3.390e+02, 3.430e+02, 4.340e+02, 8.670e+02,\n",
              "       3.350e+02, 8.150e+02, 5.350e+02, 1.188e+03, 1.069e+03, 5.110e+02,\n",
              "       2.530e+02, 4.660e+02, 3.500e+02, 4.830e+02, 5.900e+02, 2.850e+02,\n",
              "       2.550e+02, 2.562e+03, 8.600e+02, 7.560e+02, 1.070e+03, 6.040e+02,\n",
              "       5.220e+02, 1.001e+03, 4.750e+02, 4.500e+02, 2.680e+02, 1.668e+03,\n",
              "       3.000e+02, 3.590e+02, 4.930e+02, 2.024e+03, 6.106e+03, 2.171e+03,\n",
              "       7.140e+02, 8.890e+02, 5.170e+02, 6.540e+02, 8.770e+02, 2.490e+02,\n",
              "       2.547e+03, 5.280e+02, 2.700e+02, 1.313e+03, 6.510e+02, 3.950e+02,\n",
              "       5.440e+02, 7.170e+02, 7.500e+02, 1.711e+03, 2.330e+02, 3.130e+02,\n",
              "       2.460e+02, 9.660e+02, 7.270e+02, 3.120e+02, 8.660e+02, 4.120e+02,\n",
              "       4.051e+03, 2.273e+03, 6.140e+02, 2.639e+03, 3.830e+02, 1.598e+03,\n",
              "       9.630e+02, 4.350e+02, 4.480e+02, 4.840e+02, 1.790e+03, 8.490e+02,\n",
              "       4.210e+02, 5.910e+02, 4.320e+02, 3.580e+02, 4.490e+02, 8.360e+02,\n",
              "       1.473e+03, 4.780e+02, 3.370e+02, 3.182e+03, 8.400e+02, 6.524e+03,\n",
              "       6.150e+02, 2.600e+02, 3.720e+02, 2.788e+03, 6.800e+02, 1.097e+03,\n",
              "       9.900e+02, 3.354e+03, 3.251e+03, 3.287e+03, 3.706e+03])"
            ]
          },
          "metadata": {},
          "execution_count": 229
        }
      ]
    },
    {
      "cell_type": "code",
      "metadata": {
        "colab": {
          "base_uri": "https://localhost:8080/"
        },
        "id": "n0PA3dMqpIPm",
        "outputId": "a69f145a-9cee-454f-b786-858e71815c1e"
      },
      "source": [
        "len(pd_data_reviews.found_funny.unique())"
      ],
      "execution_count": null,
      "outputs": [
        {
          "output_type": "execute_result",
          "data": {
            "text/plain": [
              "635"
            ]
          },
          "metadata": {},
          "execution_count": 230
        }
      ]
    },
    {
      "cell_type": "code",
      "metadata": {
        "colab": {
          "base_uri": "https://localhost:8080/",
          "height": 375
        },
        "id": "AYCKk0afqn4Q",
        "outputId": "cdae297f-3b48-47ad-d30f-054cc49ce956"
      },
      "source": [
        "plt.figure(figsize=(25,5))\n",
        "plt.title('Distribucion de densidad de found_funny')\n",
        "plt.xlabel('found_funny')\n",
        "plt.ylabel('Densidad')\n",
        "sns.distplot(pd_data_reviews.found_funny, bins = 20, hist=True, kde=True, rug=False)"
      ],
      "execution_count": null,
      "outputs": [
        {
          "output_type": "stream",
          "name": "stderr",
          "text": [
            "/usr/local/lib/python3.7/dist-packages/seaborn/distributions.py:2557: FutureWarning: `distplot` is a deprecated function and will be removed in a future version. Please adapt your code to use either `displot` (a figure-level function with similar flexibility) or `histplot` (an axes-level function for histograms).\n",
            "  warnings.warn(msg, FutureWarning)\n"
          ]
        },
        {
          "output_type": "execute_result",
          "data": {
            "text/plain": [
              "<matplotlib.axes._subplots.AxesSubplot at 0x7f1e9e1f3510>"
            ]
          },
          "metadata": {},
          "execution_count": 231
        },
        {
          "output_type": "display_data",
          "data": {
            "image/png": "[encoded data removed]",
            "text/plain": [
              "<Figure size 1800x360 with 1 Axes>"
            ]
          },
          "metadata": {}
        }
      ]
    },
    {
      "cell_type": "markdown",
      "metadata": {
        "id": "0hnnuPUBvFxT"
      },
      "source": [
        "Para nuestro modelo de la librería **surprise** necesitamos 3 columnas, los ids de usuarios, los ids de los items y el rating. Para esto vamos a utilizar las columnas `'username'`, `'product_id'` y `'found_funny'`."
      ]
    },
    {
      "cell_type": "markdown",
      "metadata": {
        "id": "GWshpnSgmz_a"
      },
      "source": [
        "Vemos que hay valores nulos en la columna `'user_id'` pero no en `'username'`, por lo que para nuestro modelo vamos a utilizar como id de usuario la columna `'username'`."
      ]
    },
    {
      "cell_type": "code",
      "metadata": {
        "id": "Nth8UbBoxE4v"
      },
      "source": [
        "data_reviews_3_columns = pd.DataFrame([])\n"
      ],
      "execution_count": null,
      "outputs": []
    },
    {
      "cell_type": "code",
      "metadata": {
        "id": "rC-emDvsxjaa"
      },
      "source": [
        "data_reviews_3_columns['user_id'] = pd_data_reviews.username.astype(str)\n",
        "data_reviews_3_columns['item_id'] = pd_data_reviews.product_id\n",
        "data_reviews_3_columns['Rating'] = pd_data_reviews.found_funny"
      ],
      "execution_count": null,
      "outputs": []
    },
    {
      "cell_type": "code",
      "metadata": {
        "colab": {
          "base_uri": "https://localhost:8080/",
          "height": 359
        },
        "id": "q7W_GhOQyFqO",
        "outputId": "b2bb06b9-7561-4966-df00-661faccefb26"
      },
      "source": [
        "data_reviews_3_columns.head(10)"
      ],
      "execution_count": null,
      "outputs": [
        {
          "output_type": "execute_result",
          "data": {
            "text/html": [
              "<div>\n",
              "<style scoped>\n",
              "    .dataframe tbody tr th:only-of-type {\n",
              "        vertical-align: middle;\n",
              "    }\n",
              "\n",
              "    .dataframe tbody tr th {\n",
              "        vertical-align: top;\n",
              "    }\n",
              "\n",
              "    .dataframe thead th {\n",
              "        text-align: right;\n",
              "    }\n",
              "</style>\n",
              "<table border=\"1\" class=\"dataframe\">\n",
              "  <thead>\n",
              "    <tr style=\"text-align: right;\">\n",
              "      <th></th>\n",
              "      <th>user_id</th>\n",
              "      <th>item_id</th>\n",
              "      <th>Rating</th>\n",
              "    </tr>\n",
              "  </thead>\n",
              "  <tbody>\n",
              "    <tr>\n",
              "      <th>0</th>\n",
              "      <td>b'Chaos Syren'</td>\n",
              "      <td>725280</td>\n",
              "      <td>NaN</td>\n",
              "    </tr>\n",
              "    <tr>\n",
              "      <th>1</th>\n",
              "      <td>b'Ariman1'</td>\n",
              "      <td>328100</td>\n",
              "      <td>NaN</td>\n",
              "    </tr>\n",
              "    <tr>\n",
              "      <th>2</th>\n",
              "      <td>b'freakfantom'</td>\n",
              "      <td>725280</td>\n",
              "      <td>NaN</td>\n",
              "    </tr>\n",
              "    <tr>\n",
              "      <th>3</th>\n",
              "      <td>b'The_Cpt_FROGGY'</td>\n",
              "      <td>631920</td>\n",
              "      <td>NaN</td>\n",
              "    </tr>\n",
              "    <tr>\n",
              "      <th>4</th>\n",
              "      <td>b'the_maker988'</td>\n",
              "      <td>35140</td>\n",
              "      <td>NaN</td>\n",
              "    </tr>\n",
              "    <tr>\n",
              "      <th>5</th>\n",
              "      <td>b'Szudof'</td>\n",
              "      <td>288690</td>\n",
              "      <td>3.0</td>\n",
              "    </tr>\n",
              "    <tr>\n",
              "      <th>6</th>\n",
              "      <td>b'Vonder'</td>\n",
              "      <td>35600</td>\n",
              "      <td>NaN</td>\n",
              "    </tr>\n",
              "    <tr>\n",
              "      <th>7</th>\n",
              "      <td>b'LucaFox'</td>\n",
              "      <td>620900</td>\n",
              "      <td>1.0</td>\n",
              "    </tr>\n",
              "    <tr>\n",
              "      <th>8</th>\n",
              "      <td>b'rampage1209'</td>\n",
              "      <td>1840</td>\n",
              "      <td>NaN</td>\n",
              "    </tr>\n",
              "    <tr>\n",
              "      <th>9</th>\n",
              "      <td>b'Devil Azite'</td>\n",
              "      <td>671270</td>\n",
              "      <td>1.0</td>\n",
              "    </tr>\n",
              "  </tbody>\n",
              "</table>\n",
              "</div>"
            ],
            "text/plain": [
              "             user_id item_id  Rating\n",
              "0     b'Chaos Syren'  725280     NaN\n",
              "1         b'Ariman1'  328100     NaN\n",
              "2     b'freakfantom'  725280     NaN\n",
              "3  b'The_Cpt_FROGGY'  631920     NaN\n",
              "4    b'the_maker988'   35140     NaN\n",
              "5          b'Szudof'  288690     3.0\n",
              "6          b'Vonder'   35600     NaN\n",
              "7         b'LucaFox'  620900     1.0\n",
              "8     b'rampage1209'    1840     NaN\n",
              "9     b'Devil Azite'  671270     1.0"
            ]
          },
          "metadata": {},
          "execution_count": 234
        }
      ]
    },
    {
      "cell_type": "code",
      "metadata": {
        "colab": {
          "base_uri": "https://localhost:8080/",
          "height": 297
        },
        "id": "rCF1a_Ed1H70",
        "outputId": "59ddc0c1-e768-4048-8e93-b3be5b00aa91"
      },
      "source": [
        "data_reviews_3_columns.describe()"
      ],
      "execution_count": null,
      "outputs": [
        {
          "output_type": "execute_result",
          "data": {
            "text/html": [
              "<div>\n",
              "<style scoped>\n",
              "    .dataframe tbody tr th:only-of-type {\n",
              "        vertical-align: middle;\n",
              "    }\n",
              "\n",
              "    .dataframe tbody tr th {\n",
              "        vertical-align: top;\n",
              "    }\n",
              "\n",
              "    .dataframe thead th {\n",
              "        text-align: right;\n",
              "    }\n",
              "</style>\n",
              "<table border=\"1\" class=\"dataframe\">\n",
              "  <thead>\n",
              "    <tr style=\"text-align: right;\">\n",
              "      <th></th>\n",
              "      <th>Rating</th>\n",
              "    </tr>\n",
              "  </thead>\n",
              "  <tbody>\n",
              "    <tr>\n",
              "      <th>count</th>\n",
              "      <td>120164.000000</td>\n",
              "    </tr>\n",
              "    <tr>\n",
              "      <th>mean</th>\n",
              "      <td>7.713125</td>\n",
              "    </tr>\n",
              "    <tr>\n",
              "      <th>std</th>\n",
              "      <td>72.465816</td>\n",
              "    </tr>\n",
              "    <tr>\n",
              "      <th>min</th>\n",
              "      <td>1.000000</td>\n",
              "    </tr>\n",
              "    <tr>\n",
              "      <th>25%</th>\n",
              "      <td>1.000000</td>\n",
              "    </tr>\n",
              "    <tr>\n",
              "      <th>50%</th>\n",
              "      <td>1.000000</td>\n",
              "    </tr>\n",
              "    <tr>\n",
              "      <th>75%</th>\n",
              "      <td>3.000000</td>\n",
              "    </tr>\n",
              "    <tr>\n",
              "      <th>max</th>\n",
              "      <td>6524.000000</td>\n",
              "    </tr>\n",
              "  </tbody>\n",
              "</table>\n",
              "</div>"
            ],
            "text/plain": [
              "              Rating\n",
              "count  120164.000000\n",
              "mean        7.713125\n",
              "std        72.465816\n",
              "min         1.000000\n",
              "25%         1.000000\n",
              "50%         1.000000\n",
              "75%         3.000000\n",
              "max      6524.000000"
            ]
          },
          "metadata": {},
          "execution_count": 235
        }
      ]
    },
    {
      "cell_type": "code",
      "metadata": {
        "colab": {
          "base_uri": "https://localhost:8080/"
        },
        "id": "HVUmnpkj1nhD",
        "outputId": "f66a704f-0caf-4988-eb68-9dad8c0034c0"
      },
      "source": [
        "data_reviews_3_columns.isna().sum()"
      ],
      "execution_count": null,
      "outputs": [
        {
          "output_type": "execute_result",
          "data": {
            "text/plain": [
              "user_id         0\n",
              "item_id         0\n",
              "Rating     659143\n",
              "dtype: int64"
            ]
          },
          "metadata": {},
          "execution_count": 236
        }
      ]
    },
    {
      "cell_type": "code",
      "metadata": {
        "colab": {
          "base_uri": "https://localhost:8080/"
        },
        "id": "LZyE2-zP1rDH",
        "outputId": "da9d2790-68f6-40a4-de4e-19795beb9e86"
      },
      "source": [
        "data_reviews_3_columns.shape"
      ],
      "execution_count": null,
      "outputs": [
        {
          "output_type": "execute_result",
          "data": {
            "text/plain": [
              "(779307, 3)"
            ]
          },
          "metadata": {},
          "execution_count": 237
        }
      ]
    },
    {
      "cell_type": "markdown",
      "metadata": {
        "id": "Zvp2XI5-p6W0"
      },
      "source": [
        "Guardamos los datos filtrados en disco para que en las próximas consultas no haya que cargar todo el dataset nuevamente:"
      ]
    },
    {
      "cell_type": "code",
      "metadata": {
        "id": "tPiBolnz8nsP"
      },
      "source": [
        "data_reviews_3_columns.to_csv(PATH_DATASET_REVIEWS_CSV)"
      ],
      "execution_count": null,
      "outputs": []
    },
    {
      "cell_type": "markdown",
      "metadata": {
        "id": "izPAeW0C17-Y"
      },
      "source": [
        "#### Leer datos procesados Review"
      ]
    },
    {
      "cell_type": "markdown",
      "metadata": {
        "id": "JRVhQwM3ciF4"
      },
      "source": [
        "Verificando valores máximos de float de numpy:"
      ]
    },
    {
      "cell_type": "code",
      "metadata": {
        "colab": {
          "base_uri": "https://localhost:8080/"
        },
        "id": "AfC67eHlbtvh",
        "outputId": "bdf5655d-5714-4fd5-a810-c58de198f96f"
      },
      "source": [
        "np.finfo(np.float64)"
      ],
      "execution_count": null,
      "outputs": [
        {
          "output_type": "execute_result",
          "data": {
            "text/plain": [
              "finfo(resolution=1e-15, min=-1.7976931348623157e+308, max=1.7976931348623157e+308, dtype=float64)"
            ]
          },
          "metadata": {},
          "execution_count": 239
        }
      ]
    },
    {
      "cell_type": "code",
      "metadata": {
        "colab": {
          "base_uri": "https://localhost:8080/"
        },
        "id": "PgMkkJ3CcIVM",
        "outputId": "8f2be895-61e8-4d51-ce7f-e09b343c963e"
      },
      "source": [
        "np.finfo(np.float32)"
      ],
      "execution_count": null,
      "outputs": [
        {
          "output_type": "execute_result",
          "data": {
            "text/plain": [
              "finfo(resolution=1e-06, min=-3.4028235e+38, max=3.4028235e+38, dtype=float32)"
            ]
          },
          "metadata": {},
          "execution_count": 240
        }
      ]
    },
    {
      "cell_type": "code",
      "metadata": {
        "colab": {
          "base_uri": "https://localhost:8080/"
        },
        "id": "WzLv1rqKcflM",
        "outputId": "db824a12-6ab1-4240-a93a-14f0cec09029"
      },
      "source": [
        "np.finfo(np.float16)"
      ],
      "execution_count": null,
      "outputs": [
        {
          "output_type": "execute_result",
          "data": {
            "text/plain": [
              "finfo(resolution=0.001, min=-6.55040e+04, max=6.55040e+04, dtype=float16)"
            ]
          },
          "metadata": {},
          "execution_count": 241
        }
      ]
    },
    {
      "cell_type": "markdown",
      "metadata": {
        "id": "7OjWM0TAY0r3"
      },
      "source": [
        "Podemos acotar el tipo de dato de algunas columnas como `page_order`, `page`, `hours`, `products`, `found_funny`:"
      ]
    },
    {
      "cell_type": "code",
      "metadata": {
        "id": "hb2KXqKyLYTg"
      },
      "source": [
        "df_reviews = pd.read_csv(PATH_DATASET_REVIEWS_CSV, encoding = \"ISO-8859-1\", index_col = 0, dtype={'Rating': np.float16, 'item_id': np.float32})"
      ],
      "execution_count": null,
      "outputs": []
    },
    {
      "cell_type": "markdown",
      "metadata": {
        "id": "eYKa5CHWdrLf"
      },
      "source": [
        "Chequeamos nuevamente los tipos de datos:"
      ]
    },
    {
      "cell_type": "code",
      "metadata": {
        "colab": {
          "base_uri": "https://localhost:8080/"
        },
        "id": "hRwDhpoHduQK",
        "outputId": "b7cc45b8-942c-4f20-ac54-eedd3259cfda"
      },
      "source": [
        "df_reviews.dtypes"
      ],
      "execution_count": null,
      "outputs": [
        {
          "output_type": "execute_result",
          "data": {
            "text/plain": [
              "user_id     object\n",
              "item_id    float32\n",
              "Rating     float16\n",
              "dtype: object"
            ]
          },
          "metadata": {},
          "execution_count": 243
        }
      ]
    },
    {
      "cell_type": "code",
      "metadata": {
        "colab": {
          "base_uri": "https://localhost:8080/"
        },
        "id": "zavnDlqGJoNR",
        "outputId": "d65b4cfe-2276-419b-f5cf-5a00bfe5ada4"
      },
      "source": [
        "df_reviews.infer_objects().dtypes"
      ],
      "execution_count": null,
      "outputs": [
        {
          "output_type": "execute_result",
          "data": {
            "text/plain": [
              "user_id     object\n",
              "item_id    float32\n",
              "Rating     float16\n",
              "dtype: object"
            ]
          },
          "metadata": {},
          "execution_count": 244
        }
      ]
    },
    {
      "cell_type": "markdown",
      "metadata": {
        "id": "8hXmeiEZh_Pl"
      },
      "source": [
        "Vemos los valores faltantes:"
      ]
    },
    {
      "cell_type": "code",
      "metadata": {
        "colab": {
          "base_uri": "https://localhost:8080/"
        },
        "id": "sbxL-X0FibQF",
        "outputId": "7dacdc25-0919-4b33-cf43-4befe75d5d28"
      },
      "source": [
        "df_reviews.isna().sum()"
      ],
      "execution_count": null,
      "outputs": [
        {
          "output_type": "execute_result",
          "data": {
            "text/plain": [
              "user_id         0\n",
              "item_id         0\n",
              "Rating     659143\n",
              "dtype: int64"
            ]
          },
          "metadata": {},
          "execution_count": 245
        }
      ]
    },
    {
      "cell_type": "code",
      "metadata": {
        "colab": {
          "base_uri": "https://localhost:8080/",
          "height": 204
        },
        "id": "pfnd-gWSsx-z",
        "outputId": "f7b88d1b-f866-4453-fae5-ba6307e99f70"
      },
      "source": [
        "df_reviews.head()"
      ],
      "execution_count": null,
      "outputs": [
        {
          "output_type": "execute_result",
          "data": {
            "text/html": [
              "<div>\n",
              "<style scoped>\n",
              "    .dataframe tbody tr th:only-of-type {\n",
              "        vertical-align: middle;\n",
              "    }\n",
              "\n",
              "    .dataframe tbody tr th {\n",
              "        vertical-align: top;\n",
              "    }\n",
              "\n",
              "    .dataframe thead th {\n",
              "        text-align: right;\n",
              "    }\n",
              "</style>\n",
              "<table border=\"1\" class=\"dataframe\">\n",
              "  <thead>\n",
              "    <tr style=\"text-align: right;\">\n",
              "      <th></th>\n",
              "      <th>user_id</th>\n",
              "      <th>item_id</th>\n",
              "      <th>Rating</th>\n",
              "    </tr>\n",
              "  </thead>\n",
              "  <tbody>\n",
              "    <tr>\n",
              "      <th>0</th>\n",
              "      <td>b'Chaos Syren'</td>\n",
              "      <td>725280.0</td>\n",
              "      <td>NaN</td>\n",
              "    </tr>\n",
              "    <tr>\n",
              "      <th>1</th>\n",
              "      <td>b'Ariman1'</td>\n",
              "      <td>328100.0</td>\n",
              "      <td>NaN</td>\n",
              "    </tr>\n",
              "    <tr>\n",
              "      <th>2</th>\n",
              "      <td>b'freakfantom'</td>\n",
              "      <td>725280.0</td>\n",
              "      <td>NaN</td>\n",
              "    </tr>\n",
              "    <tr>\n",
              "      <th>3</th>\n",
              "      <td>b'The_Cpt_FROGGY'</td>\n",
              "      <td>631920.0</td>\n",
              "      <td>NaN</td>\n",
              "    </tr>\n",
              "    <tr>\n",
              "      <th>4</th>\n",
              "      <td>b'the_maker988'</td>\n",
              "      <td>35140.0</td>\n",
              "      <td>NaN</td>\n",
              "    </tr>\n",
              "  </tbody>\n",
              "</table>\n",
              "</div>"
            ],
            "text/plain": [
              "             user_id   item_id  Rating\n",
              "0     b'Chaos Syren'  725280.0     NaN\n",
              "1         b'Ariman1'  328100.0     NaN\n",
              "2     b'freakfantom'  725280.0     NaN\n",
              "3  b'The_Cpt_FROGGY'  631920.0     NaN\n",
              "4    b'the_maker988'   35140.0     NaN"
            ]
          },
          "metadata": {},
          "execution_count": 246
        }
      ]
    },
    {
      "cell_type": "markdown",
      "metadata": {
        "id": "IhCGH1ANG-Lb"
      },
      "source": [
        "#### Procesar datos Games"
      ]
    },
    {
      "cell_type": "markdown",
      "metadata": {
        "id": "04ed3teRWT0T"
      },
      "source": [
        "**Games**"
      ]
    },
    {
      "cell_type": "code",
      "metadata": {
        "id": "8wRb24Y5WT0U"
      },
      "source": [
        "pd_data_games = []\n",
        "for l in parse(PATH_DATASET_GAMES_GZ):\n",
        "    pd_data_games.append(l)\n",
        "pd_data_games = pd.DataFrame(pd_data_games)"
      ],
      "execution_count": null,
      "outputs": []
    },
    {
      "cell_type": "code",
      "metadata": {
        "id": "sVR0Cs6SWT0b",
        "colab": {
          "base_uri": "https://localhost:8080/",
          "height": 615
        },
        "outputId": "9d559935-d0ee-4665-9edf-a6f65ffacddf"
      },
      "source": [
        "pd_data_games.head()"
      ],
      "execution_count": null,
      "outputs": [
        {
          "output_type": "execute_result",
          "data": {
            "text/html": [
              "<div>\n",
              "<style scoped>\n",
              "    .dataframe tbody tr th:only-of-type {\n",
              "        vertical-align: middle;\n",
              "    }\n",
              "\n",
              "    .dataframe tbody tr th {\n",
              "        vertical-align: top;\n",
              "    }\n",
              "\n",
              "    .dataframe thead th {\n",
              "        text-align: right;\n",
              "    }\n",
              "</style>\n",
              "<table border=\"1\" class=\"dataframe\">\n",
              "  <thead>\n",
              "    <tr style=\"text-align: right;\">\n",
              "      <th></th>\n",
              "      <th>publisher</th>\n",
              "      <th>genres</th>\n",
              "      <th>app_name</th>\n",
              "      <th>title</th>\n",
              "      <th>url</th>\n",
              "      <th>release_date</th>\n",
              "      <th>tags</th>\n",
              "      <th>discount_price</th>\n",
              "      <th>reviews_url</th>\n",
              "      <th>specs</th>\n",
              "      <th>price</th>\n",
              "      <th>early_access</th>\n",
              "      <th>id</th>\n",
              "      <th>developer</th>\n",
              "      <th>sentiment</th>\n",
              "      <th>metascore</th>\n",
              "    </tr>\n",
              "  </thead>\n",
              "  <tbody>\n",
              "    <tr>\n",
              "      <th>0</th>\n",
              "      <td>Kotoshiro</td>\n",
              "      <td>[Action, Casual, Indie, Simulation, Strategy]</td>\n",
              "      <td>Lost Summoner Kitty</td>\n",
              "      <td>Lost Summoner Kitty</td>\n",
              "      <td>http://store.steampowered.com/app/761140/Lost_...</td>\n",
              "      <td>2018-01-04</td>\n",
              "      <td>[Strategy, Action, Indie, Casual, Simulation]</td>\n",
              "      <td>4.49</td>\n",
              "      <td>http://steamcommunity.com/app/761140/reviews/?...</td>\n",
              "      <td>[Single-player]</td>\n",
              "      <td>4.99</td>\n",
              "      <td>False</td>\n",
              "      <td>761140</td>\n",
              "      <td>Kotoshiro</td>\n",
              "      <td>NaN</td>\n",
              "      <td>NaN</td>\n",
              "    </tr>\n",
              "    <tr>\n",
              "      <th>1</th>\n",
              "      <td>Making Fun, Inc.</td>\n",
              "      <td>[Free to Play, Indie, RPG, Strategy]</td>\n",
              "      <td>Ironbound</td>\n",
              "      <td>Ironbound</td>\n",
              "      <td>http://store.steampowered.com/app/643980/Ironb...</td>\n",
              "      <td>2018-01-04</td>\n",
              "      <td>[Free to Play, Strategy, Indie, RPG, Card Game...</td>\n",
              "      <td>NaN</td>\n",
              "      <td>http://steamcommunity.com/app/643980/reviews/?...</td>\n",
              "      <td>[Single-player, Multi-player, Online Multi-Pla...</td>\n",
              "      <td>Free To Play</td>\n",
              "      <td>False</td>\n",
              "      <td>643980</td>\n",
              "      <td>Secret Level SRL</td>\n",
              "      <td>Mostly Positive</td>\n",
              "      <td>NaN</td>\n",
              "    </tr>\n",
              "    <tr>\n",
              "      <th>2</th>\n",
              "      <td>Poolians.com</td>\n",
              "      <td>[Casual, Free to Play, Indie, Simulation, Sports]</td>\n",
              "      <td>Real Pool 3D - Poolians</td>\n",
              "      <td>Real Pool 3D - Poolians</td>\n",
              "      <td>http://store.steampowered.com/app/670290/Real_...</td>\n",
              "      <td>2017-07-24</td>\n",
              "      <td>[Free to Play, Simulation, Sports, Casual, Ind...</td>\n",
              "      <td>NaN</td>\n",
              "      <td>http://steamcommunity.com/app/670290/reviews/?...</td>\n",
              "      <td>[Single-player, Multi-player, Online Multi-Pla...</td>\n",
              "      <td>Free to Play</td>\n",
              "      <td>False</td>\n",
              "      <td>670290</td>\n",
              "      <td>Poolians.com</td>\n",
              "      <td>Mostly Positive</td>\n",
              "      <td>NaN</td>\n",
              "    </tr>\n",
              "    <tr>\n",
              "      <th>3</th>\n",
              "      <td>彼岸领域</td>\n",
              "      <td>[Action, Adventure, Casual]</td>\n",
              "      <td>弹炸人2222</td>\n",
              "      <td>弹炸人2222</td>\n",
              "      <td>http://store.steampowered.com/app/767400/2222/</td>\n",
              "      <td>2017-12-07</td>\n",
              "      <td>[Action, Adventure, Casual]</td>\n",
              "      <td>0.83</td>\n",
              "      <td>http://steamcommunity.com/app/767400/reviews/?...</td>\n",
              "      <td>[Single-player]</td>\n",
              "      <td>0.99</td>\n",
              "      <td>False</td>\n",
              "      <td>767400</td>\n",
              "      <td>彼岸领域</td>\n",
              "      <td>NaN</td>\n",
              "      <td>NaN</td>\n",
              "    </tr>\n",
              "    <tr>\n",
              "      <th>4</th>\n",
              "      <td>NaN</td>\n",
              "      <td>NaN</td>\n",
              "      <td>Log Challenge</td>\n",
              "      <td>NaN</td>\n",
              "      <td>http://store.steampowered.com/app/773570/Log_C...</td>\n",
              "      <td>NaN</td>\n",
              "      <td>[Action, Indie, Casual, Sports]</td>\n",
              "      <td>1.79</td>\n",
              "      <td>http://steamcommunity.com/app/773570/reviews/?...</td>\n",
              "      <td>[Single-player, Full controller support, HTC V...</td>\n",
              "      <td>2.99</td>\n",
              "      <td>False</td>\n",
              "      <td>773570</td>\n",
              "      <td>NaN</td>\n",
              "      <td>NaN</td>\n",
              "      <td>NaN</td>\n",
              "    </tr>\n",
              "  </tbody>\n",
              "</table>\n",
              "</div>"
            ],
            "text/plain": [
              "          publisher  ... metascore\n",
              "0         Kotoshiro  ...       NaN\n",
              "1  Making Fun, Inc.  ...       NaN\n",
              "2      Poolians.com  ...       NaN\n",
              "3              彼岸领域  ...       NaN\n",
              "4               NaN  ...       NaN\n",
              "\n",
              "[5 rows x 16 columns]"
            ]
          },
          "metadata": {},
          "execution_count": 248
        }
      ]
    },
    {
      "cell_type": "code",
      "metadata": {
        "colab": {
          "base_uri": "https://localhost:8080/",
          "height": 615
        },
        "id": "rwIx4p_-JZMF",
        "outputId": "b25987f3-5698-4e43-aff8-c51ab7e9dd68"
      },
      "source": [
        "pd_data_games.head()"
      ],
      "execution_count": null,
      "outputs": [
        {
          "output_type": "execute_result",
          "data": {
            "text/html": [
              "<div>\n",
              "<style scoped>\n",
              "    .dataframe tbody tr th:only-of-type {\n",
              "        vertical-align: middle;\n",
              "    }\n",
              "\n",
              "    .dataframe tbody tr th {\n",
              "        vertical-align: top;\n",
              "    }\n",
              "\n",
              "    .dataframe thead th {\n",
              "        text-align: right;\n",
              "    }\n",
              "</style>\n",
              "<table border=\"1\" class=\"dataframe\">\n",
              "  <thead>\n",
              "    <tr style=\"text-align: right;\">\n",
              "      <th></th>\n",
              "      <th>publisher</th>\n",
              "      <th>genres</th>\n",
              "      <th>app_name</th>\n",
              "      <th>title</th>\n",
              "      <th>url</th>\n",
              "      <th>release_date</th>\n",
              "      <th>tags</th>\n",
              "      <th>discount_price</th>\n",
              "      <th>reviews_url</th>\n",
              "      <th>specs</th>\n",
              "      <th>price</th>\n",
              "      <th>early_access</th>\n",
              "      <th>id</th>\n",
              "      <th>developer</th>\n",
              "      <th>sentiment</th>\n",
              "      <th>metascore</th>\n",
              "    </tr>\n",
              "  </thead>\n",
              "  <tbody>\n",
              "    <tr>\n",
              "      <th>0</th>\n",
              "      <td>Kotoshiro</td>\n",
              "      <td>[Action, Casual, Indie, Simulation, Strategy]</td>\n",
              "      <td>Lost Summoner Kitty</td>\n",
              "      <td>Lost Summoner Kitty</td>\n",
              "      <td>http://store.steampowered.com/app/761140/Lost_...</td>\n",
              "      <td>2018-01-04</td>\n",
              "      <td>[Strategy, Action, Indie, Casual, Simulation]</td>\n",
              "      <td>4.49</td>\n",
              "      <td>http://steamcommunity.com/app/761140/reviews/?...</td>\n",
              "      <td>[Single-player]</td>\n",
              "      <td>4.99</td>\n",
              "      <td>False</td>\n",
              "      <td>761140</td>\n",
              "      <td>Kotoshiro</td>\n",
              "      <td>NaN</td>\n",
              "      <td>NaN</td>\n",
              "    </tr>\n",
              "    <tr>\n",
              "      <th>1</th>\n",
              "      <td>Making Fun, Inc.</td>\n",
              "      <td>[Free to Play, Indie, RPG, Strategy]</td>\n",
              "      <td>Ironbound</td>\n",
              "      <td>Ironbound</td>\n",
              "      <td>http://store.steampowered.com/app/643980/Ironb...</td>\n",
              "      <td>2018-01-04</td>\n",
              "      <td>[Free to Play, Strategy, Indie, RPG, Card Game...</td>\n",
              "      <td>NaN</td>\n",
              "      <td>http://steamcommunity.com/app/643980/reviews/?...</td>\n",
              "      <td>[Single-player, Multi-player, Online Multi-Pla...</td>\n",
              "      <td>Free To Play</td>\n",
              "      <td>False</td>\n",
              "      <td>643980</td>\n",
              "      <td>Secret Level SRL</td>\n",
              "      <td>Mostly Positive</td>\n",
              "      <td>NaN</td>\n",
              "    </tr>\n",
              "    <tr>\n",
              "      <th>2</th>\n",
              "      <td>Poolians.com</td>\n",
              "      <td>[Casual, Free to Play, Indie, Simulation, Sports]</td>\n",
              "      <td>Real Pool 3D - Poolians</td>\n",
              "      <td>Real Pool 3D - Poolians</td>\n",
              "      <td>http://store.steampowered.com/app/670290/Real_...</td>\n",
              "      <td>2017-07-24</td>\n",
              "      <td>[Free to Play, Simulation, Sports, Casual, Ind...</td>\n",
              "      <td>NaN</td>\n",
              "      <td>http://steamcommunity.com/app/670290/reviews/?...</td>\n",
              "      <td>[Single-player, Multi-player, Online Multi-Pla...</td>\n",
              "      <td>Free to Play</td>\n",
              "      <td>False</td>\n",
              "      <td>670290</td>\n",
              "      <td>Poolians.com</td>\n",
              "      <td>Mostly Positive</td>\n",
              "      <td>NaN</td>\n",
              "    </tr>\n",
              "    <tr>\n",
              "      <th>3</th>\n",
              "      <td>彼岸领域</td>\n",
              "      <td>[Action, Adventure, Casual]</td>\n",
              "      <td>弹炸人2222</td>\n",
              "      <td>弹炸人2222</td>\n",
              "      <td>http://store.steampowered.com/app/767400/2222/</td>\n",
              "      <td>2017-12-07</td>\n",
              "      <td>[Action, Adventure, Casual]</td>\n",
              "      <td>0.83</td>\n",
              "      <td>http://steamcommunity.com/app/767400/reviews/?...</td>\n",
              "      <td>[Single-player]</td>\n",
              "      <td>0.99</td>\n",
              "      <td>False</td>\n",
              "      <td>767400</td>\n",
              "      <td>彼岸领域</td>\n",
              "      <td>NaN</td>\n",
              "      <td>NaN</td>\n",
              "    </tr>\n",
              "    <tr>\n",
              "      <th>4</th>\n",
              "      <td>NaN</td>\n",
              "      <td>NaN</td>\n",
              "      <td>Log Challenge</td>\n",
              "      <td>NaN</td>\n",
              "      <td>http://store.steampowered.com/app/773570/Log_C...</td>\n",
              "      <td>NaN</td>\n",
              "      <td>[Action, Indie, Casual, Sports]</td>\n",
              "      <td>1.79</td>\n",
              "      <td>http://steamcommunity.com/app/773570/reviews/?...</td>\n",
              "      <td>[Single-player, Full controller support, HTC V...</td>\n",
              "      <td>2.99</td>\n",
              "      <td>False</td>\n",
              "      <td>773570</td>\n",
              "      <td>NaN</td>\n",
              "      <td>NaN</td>\n",
              "      <td>NaN</td>\n",
              "    </tr>\n",
              "  </tbody>\n",
              "</table>\n",
              "</div>"
            ],
            "text/plain": [
              "          publisher  ... metascore\n",
              "0         Kotoshiro  ...       NaN\n",
              "1  Making Fun, Inc.  ...       NaN\n",
              "2      Poolians.com  ...       NaN\n",
              "3              彼岸领域  ...       NaN\n",
              "4               NaN  ...       NaN\n",
              "\n",
              "[5 rows x 16 columns]"
            ]
          },
          "metadata": {},
          "execution_count": 249
        }
      ]
    },
    {
      "cell_type": "markdown",
      "metadata": {
        "id": "Q1IAmIj7KanO"
      },
      "source": [
        "Tipos de datos Games"
      ]
    },
    {
      "cell_type": "code",
      "metadata": {
        "colab": {
          "base_uri": "https://localhost:8080/"
        },
        "id": "vtfxc2LnKDpz",
        "outputId": "0181422b-df01-46c5-fcb2-28aebd8387ec"
      },
      "source": [
        "pd_data_games.dtypes"
      ],
      "execution_count": null,
      "outputs": [
        {
          "output_type": "execute_result",
          "data": {
            "text/plain": [
              "publisher          object\n",
              "genres             object\n",
              "app_name           object\n",
              "title              object\n",
              "url                object\n",
              "release_date       object\n",
              "tags               object\n",
              "discount_price    float64\n",
              "reviews_url        object\n",
              "specs              object\n",
              "price              object\n",
              "early_access         bool\n",
              "id                 object\n",
              "developer          object\n",
              "sentiment          object\n",
              "metascore          object\n",
              "dtype: object"
            ]
          },
          "metadata": {},
          "execution_count": 250
        }
      ]
    },
    {
      "cell_type": "code",
      "metadata": {
        "colab": {
          "base_uri": "https://localhost:8080/"
        },
        "id": "oZzsWhjRKAra",
        "outputId": "dfc52938-a1da-41ef-df6b-5edd38db9f48"
      },
      "source": [
        "pd_data_games.infer_objects().dtypes"
      ],
      "execution_count": null,
      "outputs": [
        {
          "output_type": "execute_result",
          "data": {
            "text/plain": [
              "publisher          object\n",
              "genres             object\n",
              "app_name           object\n",
              "title              object\n",
              "url                object\n",
              "release_date       object\n",
              "tags               object\n",
              "discount_price    float64\n",
              "reviews_url        object\n",
              "specs              object\n",
              "price              object\n",
              "early_access         bool\n",
              "id                 object\n",
              "developer          object\n",
              "sentiment          object\n",
              "metascore          object\n",
              "dtype: object"
            ]
          },
          "metadata": {},
          "execution_count": 251
        }
      ]
    },
    {
      "cell_type": "markdown",
      "metadata": {
        "id": "8HrI2nJxKeF0"
      },
      "source": [
        "Valores faltantes:"
      ]
    },
    {
      "cell_type": "code",
      "metadata": {
        "colab": {
          "base_uri": "https://localhost:8080/"
        },
        "id": "dd4twrE2Kjr6",
        "outputId": "09ad6a1b-2574-4e17-bc8f-737959dcbe9c"
      },
      "source": [
        "pd_data_games.isna().sum()"
      ],
      "execution_count": null,
      "outputs": [
        {
          "output_type": "execute_result",
          "data": {
            "text/plain": [
              "publisher          8052\n",
              "genres             3283\n",
              "app_name              2\n",
              "title              2050\n",
              "url                   0\n",
              "release_date       2067\n",
              "tags                163\n",
              "discount_price    31910\n",
              "reviews_url           2\n",
              "specs               670\n",
              "price              1377\n",
              "early_access          0\n",
              "id                    2\n",
              "developer          3299\n",
              "sentiment          7182\n",
              "metascore         29458\n",
              "dtype: int64"
            ]
          },
          "metadata": {},
          "execution_count": 252
        }
      ]
    },
    {
      "cell_type": "markdown",
      "metadata": {
        "id": "5Cfqdw6DeCdc"
      },
      "source": [
        "Cantidad de datos:"
      ]
    },
    {
      "cell_type": "code",
      "metadata": {
        "colab": {
          "base_uri": "https://localhost:8080/"
        },
        "id": "mjC2BIqaeEnr",
        "outputId": "83af6ccc-484c-4ec5-9392-50953e433afc"
      },
      "source": [
        "pd_data_games.shape"
      ],
      "execution_count": null,
      "outputs": [
        {
          "output_type": "execute_result",
          "data": {
            "text/plain": [
              "(32135, 16)"
            ]
          },
          "metadata": {},
          "execution_count": 253
        }
      ]
    },
    {
      "cell_type": "code",
      "metadata": {
        "colab": {
          "base_uri": "https://localhost:8080/",
          "height": 297
        },
        "id": "jk3xvwPFMkuE",
        "outputId": "0073d0db-549b-4e9a-c64a-82cbf9ef71c5"
      },
      "source": [
        "pd_data_games.describe()"
      ],
      "execution_count": null,
      "outputs": [
        {
          "output_type": "execute_result",
          "data": {
            "text/html": [
              "<div>\n",
              "<style scoped>\n",
              "    .dataframe tbody tr th:only-of-type {\n",
              "        vertical-align: middle;\n",
              "    }\n",
              "\n",
              "    .dataframe tbody tr th {\n",
              "        vertical-align: top;\n",
              "    }\n",
              "\n",
              "    .dataframe thead th {\n",
              "        text-align: right;\n",
              "    }\n",
              "</style>\n",
              "<table border=\"1\" class=\"dataframe\">\n",
              "  <thead>\n",
              "    <tr style=\"text-align: right;\">\n",
              "      <th></th>\n",
              "      <th>discount_price</th>\n",
              "    </tr>\n",
              "  </thead>\n",
              "  <tbody>\n",
              "    <tr>\n",
              "      <th>count</th>\n",
              "      <td>225.000000</td>\n",
              "    </tr>\n",
              "    <tr>\n",
              "      <th>mean</th>\n",
              "      <td>11.930533</td>\n",
              "    </tr>\n",
              "    <tr>\n",
              "      <th>std</th>\n",
              "      <td>17.492643</td>\n",
              "    </tr>\n",
              "    <tr>\n",
              "      <th>min</th>\n",
              "      <td>0.490000</td>\n",
              "    </tr>\n",
              "    <tr>\n",
              "      <th>25%</th>\n",
              "      <td>1.390000</td>\n",
              "    </tr>\n",
              "    <tr>\n",
              "      <th>50%</th>\n",
              "      <td>4.190000</td>\n",
              "    </tr>\n",
              "    <tr>\n",
              "      <th>75%</th>\n",
              "      <td>22.660000</td>\n",
              "    </tr>\n",
              "    <tr>\n",
              "      <th>max</th>\n",
              "      <td>139.990000</td>\n",
              "    </tr>\n",
              "  </tbody>\n",
              "</table>\n",
              "</div>"
            ],
            "text/plain": [
              "       discount_price\n",
              "count      225.000000\n",
              "mean        11.930533\n",
              "std         17.492643\n",
              "min          0.490000\n",
              "25%          1.390000\n",
              "50%          4.190000\n",
              "75%         22.660000\n",
              "max        139.990000"
            ]
          },
          "metadata": {},
          "execution_count": 254
        }
      ]
    },
    {
      "cell_type": "code",
      "metadata": {
        "id": "Wgh5-4TrAsnU"
      },
      "source": [
        "pd_data_games.to_csv(PATH_DATASET_GAMES_CSV)"
      ],
      "execution_count": null,
      "outputs": []
    },
    {
      "cell_type": "code",
      "metadata": {
        "id": "8y8fzlIuPHR4"
      },
      "source": [
        "del pd_data_games"
      ],
      "execution_count": null,
      "outputs": []
    },
    {
      "cell_type": "code",
      "metadata": {
        "colab": {
          "base_uri": "https://localhost:8080/"
        },
        "id": "X0LyHua7r7nY",
        "outputId": "0ce94fe7-5184-4d8b-f174-7bea7ec07d21"
      },
      "source": [
        "gc.collect()"
      ],
      "execution_count": null,
      "outputs": [
        {
          "output_type": "execute_result",
          "data": {
            "text/plain": [
              "3474"
            ]
          },
          "metadata": {},
          "execution_count": 257
        }
      ]
    },
    {
      "cell_type": "markdown",
      "metadata": {
        "id": "y78KvynqKYq6"
      },
      "source": [
        "#### Leer datos procesados Games"
      ]
    },
    {
      "cell_type": "code",
      "metadata": {
        "id": "8XPj25jVA2tL"
      },
      "source": [
        "df_games = pd.read_csv(PATH_DATASET_GAMES_CSV, index_col = 0, dtype={'id': np.float32, 'discount_price': np.float16,'early_access': np.int8 })"
      ],
      "execution_count": null,
      "outputs": []
    },
    {
      "cell_type": "code",
      "metadata": {
        "colab": {
          "base_uri": "https://localhost:8080/",
          "height": 581
        },
        "id": "wP3ViBxy8agc",
        "outputId": "48088833-4e89-438e-fbfc-fb445b178520"
      },
      "source": [
        "df_games.head()"
      ],
      "execution_count": null,
      "outputs": [
        {
          "output_type": "execute_result",
          "data": {
            "text/html": [
              "<div>\n",
              "<style scoped>\n",
              "    .dataframe tbody tr th:only-of-type {\n",
              "        vertical-align: middle;\n",
              "    }\n",
              "\n",
              "    .dataframe tbody tr th {\n",
              "        vertical-align: top;\n",
              "    }\n",
              "\n",
              "    .dataframe thead th {\n",
              "        text-align: right;\n",
              "    }\n",
              "</style>\n",
              "<table border=\"1\" class=\"dataframe\">\n",
              "  <thead>\n",
              "    <tr style=\"text-align: right;\">\n",
              "      <th></th>\n",
              "      <th>publisher</th>\n",
              "      <th>genres</th>\n",
              "      <th>app_name</th>\n",
              "      <th>title</th>\n",
              "      <th>url</th>\n",
              "      <th>release_date</th>\n",
              "      <th>tags</th>\n",
              "      <th>discount_price</th>\n",
              "      <th>reviews_url</th>\n",
              "      <th>specs</th>\n",
              "      <th>price</th>\n",
              "      <th>early_access</th>\n",
              "      <th>id</th>\n",
              "      <th>developer</th>\n",
              "      <th>sentiment</th>\n",
              "      <th>metascore</th>\n",
              "    </tr>\n",
              "  </thead>\n",
              "  <tbody>\n",
              "    <tr>\n",
              "      <th>0</th>\n",
              "      <td>Kotoshiro</td>\n",
              "      <td>['Action', 'Casual', 'Indie', 'Simulation', 'S...</td>\n",
              "      <td>Lost Summoner Kitty</td>\n",
              "      <td>Lost Summoner Kitty</td>\n",
              "      <td>http://store.steampowered.com/app/761140/Lost_...</td>\n",
              "      <td>2018-01-04</td>\n",
              "      <td>['Strategy', 'Action', 'Indie', 'Casual', 'Sim...</td>\n",
              "      <td>4.488281</td>\n",
              "      <td>http://steamcommunity.com/app/761140/reviews/?...</td>\n",
              "      <td>['Single-player']</td>\n",
              "      <td>4.99</td>\n",
              "      <td>0</td>\n",
              "      <td>761140.0</td>\n",
              "      <td>Kotoshiro</td>\n",
              "      <td>NaN</td>\n",
              "      <td>NaN</td>\n",
              "    </tr>\n",
              "    <tr>\n",
              "      <th>1</th>\n",
              "      <td>Making Fun, Inc.</td>\n",
              "      <td>['Free to Play', 'Indie', 'RPG', 'Strategy']</td>\n",
              "      <td>Ironbound</td>\n",
              "      <td>Ironbound</td>\n",
              "      <td>http://store.steampowered.com/app/643980/Ironb...</td>\n",
              "      <td>2018-01-04</td>\n",
              "      <td>['Free to Play', 'Strategy', 'Indie', 'RPG', '...</td>\n",
              "      <td>NaN</td>\n",
              "      <td>http://steamcommunity.com/app/643980/reviews/?...</td>\n",
              "      <td>['Single-player', 'Multi-player', 'Online Mult...</td>\n",
              "      <td>Free To Play</td>\n",
              "      <td>0</td>\n",
              "      <td>643980.0</td>\n",
              "      <td>Secret Level SRL</td>\n",
              "      <td>Mostly Positive</td>\n",
              "      <td>NaN</td>\n",
              "    </tr>\n",
              "    <tr>\n",
              "      <th>2</th>\n",
              "      <td>Poolians.com</td>\n",
              "      <td>['Casual', 'Free to Play', 'Indie', 'Simulatio...</td>\n",
              "      <td>Real Pool 3D - Poolians</td>\n",
              "      <td>Real Pool 3D - Poolians</td>\n",
              "      <td>http://store.steampowered.com/app/670290/Real_...</td>\n",
              "      <td>2017-07-24</td>\n",
              "      <td>['Free to Play', 'Simulation', 'Sports', 'Casu...</td>\n",
              "      <td>NaN</td>\n",
              "      <td>http://steamcommunity.com/app/670290/reviews/?...</td>\n",
              "      <td>['Single-player', 'Multi-player', 'Online Mult...</td>\n",
              "      <td>Free to Play</td>\n",
              "      <td>0</td>\n",
              "      <td>670290.0</td>\n",
              "      <td>Poolians.com</td>\n",
              "      <td>Mostly Positive</td>\n",
              "      <td>NaN</td>\n",
              "    </tr>\n",
              "    <tr>\n",
              "      <th>3</th>\n",
              "      <td>彼岸领域</td>\n",
              "      <td>['Action', 'Adventure', 'Casual']</td>\n",
              "      <td>弹炸人2222</td>\n",
              "      <td>弹炸人2222</td>\n",
              "      <td>http://store.steampowered.com/app/767400/2222/</td>\n",
              "      <td>2017-12-07</td>\n",
              "      <td>['Action', 'Adventure', 'Casual']</td>\n",
              "      <td>0.830078</td>\n",
              "      <td>http://steamcommunity.com/app/767400/reviews/?...</td>\n",
              "      <td>['Single-player']</td>\n",
              "      <td>0.99</td>\n",
              "      <td>0</td>\n",
              "      <td>767400.0</td>\n",
              "      <td>彼岸领域</td>\n",
              "      <td>NaN</td>\n",
              "      <td>NaN</td>\n",
              "    </tr>\n",
              "    <tr>\n",
              "      <th>4</th>\n",
              "      <td>NaN</td>\n",
              "      <td>NaN</td>\n",
              "      <td>Log Challenge</td>\n",
              "      <td>NaN</td>\n",
              "      <td>http://store.steampowered.com/app/773570/Log_C...</td>\n",
              "      <td>NaN</td>\n",
              "      <td>['Action', 'Indie', 'Casual', 'Sports']</td>\n",
              "      <td>1.790039</td>\n",
              "      <td>http://steamcommunity.com/app/773570/reviews/?...</td>\n",
              "      <td>['Single-player', 'Full controller support', '...</td>\n",
              "      <td>2.99</td>\n",
              "      <td>0</td>\n",
              "      <td>773570.0</td>\n",
              "      <td>NaN</td>\n",
              "      <td>NaN</td>\n",
              "      <td>NaN</td>\n",
              "    </tr>\n",
              "  </tbody>\n",
              "</table>\n",
              "</div>"
            ],
            "text/plain": [
              "          publisher  ... metascore\n",
              "0         Kotoshiro  ...       NaN\n",
              "1  Making Fun, Inc.  ...       NaN\n",
              "2      Poolians.com  ...       NaN\n",
              "3              彼岸领域  ...       NaN\n",
              "4               NaN  ...       NaN\n",
              "\n",
              "[5 rows x 16 columns]"
            ]
          },
          "metadata": {},
          "execution_count": 259
        }
      ]
    },
    {
      "cell_type": "markdown",
      "metadata": {
        "id": "ujua9VcJsBzT"
      },
      "source": [
        "Tipos de datos"
      ]
    },
    {
      "cell_type": "code",
      "metadata": {
        "colab": {
          "base_uri": "https://localhost:8080/"
        },
        "id": "yzPhxv0I-l71",
        "outputId": "254243de-4b8a-4d10-9068-a6afe543a11f"
      },
      "source": [
        "df_games.infer_objects().dtypes"
      ],
      "execution_count": null,
      "outputs": [
        {
          "output_type": "execute_result",
          "data": {
            "text/plain": [
              "publisher          object\n",
              "genres             object\n",
              "app_name           object\n",
              "title              object\n",
              "url                object\n",
              "release_date       object\n",
              "tags               object\n",
              "discount_price    float16\n",
              "reviews_url        object\n",
              "specs              object\n",
              "price              object\n",
              "early_access         int8\n",
              "id                float32\n",
              "developer          object\n",
              "sentiment          object\n",
              "metascore         float64\n",
              "dtype: object"
            ]
          },
          "metadata": {},
          "execution_count": 260
        }
      ]
    },
    {
      "cell_type": "markdown",
      "metadata": {
        "id": "FSctfvjTsFMX"
      },
      "source": [
        "Podemos ver la información de un juego específico:"
      ]
    },
    {
      "cell_type": "code",
      "metadata": {
        "id": "Bt5BLCw5WT0g",
        "colab": {
          "base_uri": "https://localhost:8080/",
          "height": 202
        },
        "outputId": "2c93362c-6c50-4fa1-fcdc-2629aa04b6c7"
      },
      "source": [
        "df_games[df_games.id == 35140]"
      ],
      "execution_count": null,
      "outputs": [
        {
          "output_type": "execute_result",
          "data": {
            "text/html": [
              "<div>\n",
              "<style scoped>\n",
              "    .dataframe tbody tr th:only-of-type {\n",
              "        vertical-align: middle;\n",
              "    }\n",
              "\n",
              "    .dataframe tbody tr th {\n",
              "        vertical-align: top;\n",
              "    }\n",
              "\n",
              "    .dataframe thead th {\n",
              "        text-align: right;\n",
              "    }\n",
              "</style>\n",
              "<table border=\"1\" class=\"dataframe\">\n",
              "  <thead>\n",
              "    <tr style=\"text-align: right;\">\n",
              "      <th></th>\n",
              "      <th>publisher</th>\n",
              "      <th>genres</th>\n",
              "      <th>app_name</th>\n",
              "      <th>title</th>\n",
              "      <th>url</th>\n",
              "      <th>release_date</th>\n",
              "      <th>tags</th>\n",
              "      <th>discount_price</th>\n",
              "      <th>reviews_url</th>\n",
              "      <th>specs</th>\n",
              "      <th>price</th>\n",
              "      <th>early_access</th>\n",
              "      <th>id</th>\n",
              "      <th>developer</th>\n",
              "      <th>sentiment</th>\n",
              "      <th>metascore</th>\n",
              "    </tr>\n",
              "  </thead>\n",
              "  <tbody>\n",
              "    <tr>\n",
              "      <th>31617</th>\n",
              "      <td>Warner Bros. Interactive Entertainment, Feral ...</td>\n",
              "      <td>['Action', 'Adventure']</td>\n",
              "      <td>Batman: Arkham Asylum Game of the Year Edition</td>\n",
              "      <td>Batman: Arkham Asylum Game of the Year Edition</td>\n",
              "      <td>http://store.steampowered.com/app/35140/Batman...</td>\n",
              "      <td>2010-03-26</td>\n",
              "      <td>['Action', 'Batman', 'Stealth', 'Adventure', '...</td>\n",
              "      <td>NaN</td>\n",
              "      <td>http://steamcommunity.com/app/35140/reviews/?b...</td>\n",
              "      <td>['Single-player', 'Steam Achievements', 'Steam...</td>\n",
              "      <td>19.99</td>\n",
              "      <td>0</td>\n",
              "      <td>35140.0</td>\n",
              "      <td>Rocksteady Studios,Feral Interactive (Mac)</td>\n",
              "      <td>Overwhelmingly Positive</td>\n",
              "      <td>91.0</td>\n",
              "    </tr>\n",
              "  </tbody>\n",
              "</table>\n",
              "</div>"
            ],
            "text/plain": [
              "                                               publisher  ... metascore\n",
              "31617  Warner Bros. Interactive Entertainment, Feral ...  ...      91.0\n",
              "\n",
              "[1 rows x 16 columns]"
            ]
          },
          "metadata": {},
          "execution_count": 261
        }
      ]
    },
    {
      "cell_type": "code",
      "metadata": {
        "colab": {
          "base_uri": "https://localhost:8080/"
        },
        "id": "F3QHtFsF01VB",
        "outputId": "261df732-ee8f-401d-b066-30c9ac4ecda6"
      },
      "source": [
        "print(df_games[df_games.id == 35140].reviews_url)"
      ],
      "execution_count": null,
      "outputs": [
        {
          "output_type": "stream",
          "name": "stdout",
          "text": [
            "31617    http://steamcommunity.com/app/35140/reviews/?b...\n",
            "Name: reviews_url, dtype: object\n"
          ]
        }
      ]
    },
    {
      "cell_type": "markdown",
      "metadata": {
        "id": "Dt7uOWqt5kJG"
      },
      "source": [
        "Ingresando a la URL http://steamcommunity.com/app/35140/reviews/?b de la review podemos ver comentarios de usuarios respecto del juego `Batman: Arkham Asylum GOTY Edition`."
      ]
    },
    {
      "cell_type": "markdown",
      "metadata": {
        "id": "EfW_DJlasNm7"
      },
      "source": [
        "Verificamos las columnas y filas de juegos y reviews"
      ]
    },
    {
      "cell_type": "code",
      "metadata": {
        "colab": {
          "base_uri": "https://localhost:8080/"
        },
        "id": "mPxmPnjz5oUd",
        "outputId": "8bd7feee-fffe-4f9d-daa5-2f3cb1be958a"
      },
      "source": [
        "df_games.shape"
      ],
      "execution_count": null,
      "outputs": [
        {
          "output_type": "execute_result",
          "data": {
            "text/plain": [
              "(32135, 16)"
            ]
          },
          "metadata": {},
          "execution_count": 263
        }
      ]
    },
    {
      "cell_type": "code",
      "metadata": {
        "colab": {
          "base_uri": "https://localhost:8080/"
        },
        "id": "fyBT2uxJ5pVw",
        "outputId": "6bf22381-7c37-415b-9e69-35bfb9b16b65"
      },
      "source": [
        "df_reviews.shape"
      ],
      "execution_count": null,
      "outputs": [
        {
          "output_type": "execute_result",
          "data": {
            "text/plain": [
              "(779307, 3)"
            ]
          },
          "metadata": {},
          "execution_count": 264
        }
      ]
    },
    {
      "cell_type": "markdown",
      "metadata": {
        "id": "jrG7QoSDsVa8"
      },
      "source": [
        "Chequeamos las columnas de los reviews"
      ]
    },
    {
      "cell_type": "code",
      "metadata": {
        "colab": {
          "base_uri": "https://localhost:8080/"
        },
        "id": "3viVTb1h2hec",
        "outputId": "ea08826f-c1d4-4c44-b92e-bb942e5c1d65"
      },
      "source": [
        "df_reviews.columns"
      ],
      "execution_count": null,
      "outputs": [
        {
          "output_type": "execute_result",
          "data": {
            "text/plain": [
              "Index(['user_id', 'item_id', 'Rating'], dtype='object')"
            ]
          },
          "metadata": {},
          "execution_count": 265
        }
      ]
    },
    {
      "cell_type": "markdown",
      "metadata": {
        "id": "Xqrs92CJTbkn"
      },
      "source": [
        "#### Exploración de datos"
      ]
    },
    {
      "cell_type": "markdown",
      "metadata": {
        "id": "Z0rPGTeD5833"
      },
      "source": [
        "**Reviews**"
      ]
    },
    {
      "cell_type": "markdown",
      "metadata": {
        "id": "aQarmvo46ZeM"
      },
      "source": [
        "**¿Cuáles son los juegos más populares?**\n",
        "\n",
        "Vamos a tomar que un juego es popular por la cantidad de calificaciones en `'found_funny'` diferentes a `NaN`, y en nuestro caso la columna renombrada a `'Rating'`, y menos popular cuando tiene menos calificaciones. Se toma ese criterio ya que otra manera de verlo es por ejemplo que un juego no es popular si no tiene calificaciones."
      ]
    },
    {
      "cell_type": "code",
      "metadata": {
        "id": "QLyKBcst6XXx"
      },
      "source": [
        "reviews_product_funny = df_reviews.loc[df_reviews.Rating.notna()][['item_id','Rating']]"
      ],
      "execution_count": null,
      "outputs": []
    },
    {
      "cell_type": "markdown",
      "metadata": {
        "id": "aUb-dqmmsbdC"
      },
      "source": [
        "Juegos con mejores calificaciones:"
      ]
    },
    {
      "cell_type": "code",
      "metadata": {
        "colab": {
          "base_uri": "https://localhost:8080/",
          "height": 204
        },
        "id": "Me-7e1Wfseee",
        "outputId": "cfa7ec65-57bb-4972-bc34-777962cc3aae"
      },
      "source": [
        "reviews_product_funny.sort_values('Rating', ascending=False).head()"
      ],
      "execution_count": null,
      "outputs": [
        {
          "output_type": "execute_result",
          "data": {
            "text/html": [
              "<div>\n",
              "<style scoped>\n",
              "    .dataframe tbody tr th:only-of-type {\n",
              "        vertical-align: middle;\n",
              "    }\n",
              "\n",
              "    .dataframe tbody tr th {\n",
              "        vertical-align: top;\n",
              "    }\n",
              "\n",
              "    .dataframe thead th {\n",
              "        text-align: right;\n",
              "    }\n",
              "</style>\n",
              "<table border=\"1\" class=\"dataframe\">\n",
              "  <thead>\n",
              "    <tr style=\"text-align: right;\">\n",
              "      <th></th>\n",
              "      <th>item_id</th>\n",
              "      <th>Rating</th>\n",
              "    </tr>\n",
              "  </thead>\n",
              "  <tbody>\n",
              "    <tr>\n",
              "      <th>754749</th>\n",
              "      <td>252490.0</td>\n",
              "      <td>6524.0</td>\n",
              "    </tr>\n",
              "    <tr>\n",
              "      <th>205226</th>\n",
              "      <td>334230.0</td>\n",
              "      <td>6276.0</td>\n",
              "    </tr>\n",
              "    <tr>\n",
              "      <th>660481</th>\n",
              "      <td>8930.0</td>\n",
              "      <td>6104.0</td>\n",
              "    </tr>\n",
              "    <tr>\n",
              "      <th>378476</th>\n",
              "      <td>107410.0</td>\n",
              "      <td>4080.0</td>\n",
              "    </tr>\n",
              "    <tr>\n",
              "      <th>711000</th>\n",
              "      <td>274190.0</td>\n",
              "      <td>4052.0</td>\n",
              "    </tr>\n",
              "  </tbody>\n",
              "</table>\n",
              "</div>"
            ],
            "text/plain": [
              "         item_id  Rating\n",
              "754749  252490.0  6524.0\n",
              "205226  334230.0  6276.0\n",
              "660481    8930.0  6104.0\n",
              "378476  107410.0  4080.0\n",
              "711000  274190.0  4052.0"
            ]
          },
          "metadata": {},
          "execution_count": 267
        }
      ]
    },
    {
      "cell_type": "markdown",
      "metadata": {
        "id": "E0hHMYHBtjwk"
      },
      "source": [
        "Juego con mejor calificación, id `252490 ` `Rust`:\n"
      ]
    },
    {
      "cell_type": "code",
      "metadata": {
        "colab": {
          "base_uri": "https://localhost:8080/",
          "height": 185
        },
        "id": "-MCOZI0Jt4yU",
        "outputId": "8a1ff0fb-b90f-4237-aa2f-2c5e9699e738"
      },
      "source": [
        "df_games[df_games.id == 252490]"
      ],
      "execution_count": null,
      "outputs": [
        {
          "output_type": "execute_result",
          "data": {
            "text/html": [
              "<div>\n",
              "<style scoped>\n",
              "    .dataframe tbody tr th:only-of-type {\n",
              "        vertical-align: middle;\n",
              "    }\n",
              "\n",
              "    .dataframe tbody tr th {\n",
              "        vertical-align: top;\n",
              "    }\n",
              "\n",
              "    .dataframe thead th {\n",
              "        text-align: right;\n",
              "    }\n",
              "</style>\n",
              "<table border=\"1\" class=\"dataframe\">\n",
              "  <thead>\n",
              "    <tr style=\"text-align: right;\">\n",
              "      <th></th>\n",
              "      <th>publisher</th>\n",
              "      <th>genres</th>\n",
              "      <th>app_name</th>\n",
              "      <th>title</th>\n",
              "      <th>url</th>\n",
              "      <th>release_date</th>\n",
              "      <th>tags</th>\n",
              "      <th>discount_price</th>\n",
              "      <th>reviews_url</th>\n",
              "      <th>specs</th>\n",
              "      <th>price</th>\n",
              "      <th>early_access</th>\n",
              "      <th>id</th>\n",
              "      <th>developer</th>\n",
              "      <th>sentiment</th>\n",
              "      <th>metascore</th>\n",
              "    </tr>\n",
              "  </thead>\n",
              "  <tbody>\n",
              "    <tr>\n",
              "      <th>29692</th>\n",
              "      <td>Facepunch Studios</td>\n",
              "      <td>['Action', 'Adventure', 'Indie', 'Massively Mu...</td>\n",
              "      <td>Rust</td>\n",
              "      <td>Rust</td>\n",
              "      <td>http://store.steampowered.com/app/252490/Rust/</td>\n",
              "      <td>2013-12-11</td>\n",
              "      <td>['Early Access', 'Survival', 'Crafting', 'Mult...</td>\n",
              "      <td>NaN</td>\n",
              "      <td>http://steamcommunity.com/app/252490/reviews/?...</td>\n",
              "      <td>['Multi-player', 'MMO', 'Cross-Platform Multip...</td>\n",
              "      <td>19.99</td>\n",
              "      <td>1</td>\n",
              "      <td>252490.0</td>\n",
              "      <td>Facepunch Studios</td>\n",
              "      <td>Very Positive</td>\n",
              "      <td>NaN</td>\n",
              "    </tr>\n",
              "  </tbody>\n",
              "</table>\n",
              "</div>"
            ],
            "text/plain": [
              "               publisher  ... metascore\n",
              "29692  Facepunch Studios  ...       NaN\n",
              "\n",
              "[1 rows x 16 columns]"
            ]
          },
          "metadata": {},
          "execution_count": 268
        }
      ]
    },
    {
      "cell_type": "markdown",
      "metadata": {
        "id": "JBetTIDoubXO"
      },
      "source": [
        "Para buscar el juego más popular, contamos la cantidad de calificaciones por juego"
      ]
    },
    {
      "cell_type": "code",
      "metadata": {
        "colab": {
          "base_uri": "https://localhost:8080/",
          "height": 450
        },
        "id": "NxBEotfVjt8K",
        "outputId": "3953c2a2-a1c8-49da-80d7-405400f4a461"
      },
      "source": [
        "reviews_product_funny.groupby('item_id').count() #.sort_values('',ascending = False)"
      ],
      "execution_count": null,
      "outputs": [
        {
          "output_type": "execute_result",
          "data": {
            "text/html": [
              "<div>\n",
              "<style scoped>\n",
              "    .dataframe tbody tr th:only-of-type {\n",
              "        vertical-align: middle;\n",
              "    }\n",
              "\n",
              "    .dataframe tbody tr th {\n",
              "        vertical-align: top;\n",
              "    }\n",
              "\n",
              "    .dataframe thead th {\n",
              "        text-align: right;\n",
              "    }\n",
              "</style>\n",
              "<table border=\"1\" class=\"dataframe\">\n",
              "  <thead>\n",
              "    <tr style=\"text-align: right;\">\n",
              "      <th></th>\n",
              "      <th>Rating</th>\n",
              "    </tr>\n",
              "    <tr>\n",
              "      <th>item_id</th>\n",
              "      <th></th>\n",
              "    </tr>\n",
              "  </thead>\n",
              "  <tbody>\n",
              "    <tr>\n",
              "      <th>10.0</th>\n",
              "      <td>3</td>\n",
              "    </tr>\n",
              "    <tr>\n",
              "      <th>20.0</th>\n",
              "      <td>68</td>\n",
              "    </tr>\n",
              "    <tr>\n",
              "      <th>30.0</th>\n",
              "      <td>29</td>\n",
              "    </tr>\n",
              "    <tr>\n",
              "      <th>40.0</th>\n",
              "      <td>13</td>\n",
              "    </tr>\n",
              "    <tr>\n",
              "      <th>50.0</th>\n",
              "      <td>25</td>\n",
              "    </tr>\n",
              "    <tr>\n",
              "      <th>...</th>\n",
              "      <td>...</td>\n",
              "    </tr>\n",
              "    <tr>\n",
              "      <th>768060.0</th>\n",
              "      <td>1</td>\n",
              "    </tr>\n",
              "    <tr>\n",
              "      <th>768430.0</th>\n",
              "      <td>1</td>\n",
              "    </tr>\n",
              "    <tr>\n",
              "      <th>768840.0</th>\n",
              "      <td>1</td>\n",
              "    </tr>\n",
              "    <tr>\n",
              "      <th>770400.0</th>\n",
              "      <td>1</td>\n",
              "    </tr>\n",
              "    <tr>\n",
              "      <th>772540.0</th>\n",
              "      <td>2</td>\n",
              "    </tr>\n",
              "  </tbody>\n",
              "</table>\n",
              "<p>8866 rows × 1 columns</p>\n",
              "</div>"
            ],
            "text/plain": [
              "          Rating\n",
              "item_id         \n",
              "10.0           3\n",
              "20.0          68\n",
              "30.0          29\n",
              "40.0          13\n",
              "50.0          25\n",
              "...          ...\n",
              "768060.0       1\n",
              "768430.0       1\n",
              "768840.0       1\n",
              "770400.0       1\n",
              "772540.0       2\n",
              "\n",
              "[8866 rows x 1 columns]"
            ]
          },
          "metadata": {},
          "execution_count": 269
        }
      ]
    },
    {
      "cell_type": "markdown",
      "metadata": {
        "id": "BitCx22tundr"
      },
      "source": [
        "Ordenamos los juegos por de más calificaciones a menos:"
      ]
    },
    {
      "cell_type": "code",
      "metadata": {
        "colab": {
          "base_uri": "https://localhost:8080/",
          "height": 450
        },
        "id": "EmoPZ4ewoIOY",
        "outputId": "2039bb36-d09d-4e02-d398-0adbce87192c"
      },
      "source": [
        "reviews_product_funny.groupby('item_id').count().sort_values('Rating',ascending = False)"
      ],
      "execution_count": null,
      "outputs": [
        {
          "output_type": "execute_result",
          "data": {
            "text/html": [
              "<div>\n",
              "<style scoped>\n",
              "    .dataframe tbody tr th:only-of-type {\n",
              "        vertical-align: middle;\n",
              "    }\n",
              "\n",
              "    .dataframe tbody tr th {\n",
              "        vertical-align: top;\n",
              "    }\n",
              "\n",
              "    .dataframe thead th {\n",
              "        text-align: right;\n",
              "    }\n",
              "</style>\n",
              "<table border=\"1\" class=\"dataframe\">\n",
              "  <thead>\n",
              "    <tr style=\"text-align: right;\">\n",
              "      <th></th>\n",
              "      <th>Rating</th>\n",
              "    </tr>\n",
              "    <tr>\n",
              "      <th>item_id</th>\n",
              "      <th></th>\n",
              "    </tr>\n",
              "  </thead>\n",
              "  <tbody>\n",
              "    <tr>\n",
              "      <th>440.0</th>\n",
              "      <td>2401</td>\n",
              "    </tr>\n",
              "    <tr>\n",
              "      <th>252490.0</th>\n",
              "      <td>1451</td>\n",
              "    </tr>\n",
              "    <tr>\n",
              "      <th>221100.0</th>\n",
              "      <td>1338</td>\n",
              "    </tr>\n",
              "    <tr>\n",
              "      <th>377160.0</th>\n",
              "      <td>1181</td>\n",
              "    </tr>\n",
              "    <tr>\n",
              "      <th>391540.0</th>\n",
              "      <td>826</td>\n",
              "    </tr>\n",
              "    <tr>\n",
              "      <th>...</th>\n",
              "      <td>...</td>\n",
              "    </tr>\n",
              "    <tr>\n",
              "      <th>461600.0</th>\n",
              "      <td>1</td>\n",
              "    </tr>\n",
              "    <tr>\n",
              "      <th>461650.0</th>\n",
              "      <td>1</td>\n",
              "    </tr>\n",
              "    <tr>\n",
              "      <th>461680.0</th>\n",
              "      <td>1</td>\n",
              "    </tr>\n",
              "    <tr>\n",
              "      <th>326230.0</th>\n",
              "      <td>1</td>\n",
              "    </tr>\n",
              "    <tr>\n",
              "      <th>361930.0</th>\n",
              "      <td>1</td>\n",
              "    </tr>\n",
              "  </tbody>\n",
              "</table>\n",
              "<p>8866 rows × 1 columns</p>\n",
              "</div>"
            ],
            "text/plain": [
              "          Rating\n",
              "item_id         \n",
              "440.0       2401\n",
              "252490.0    1451\n",
              "221100.0    1338\n",
              "377160.0    1181\n",
              "391540.0     826\n",
              "...          ...\n",
              "461600.0       1\n",
              "461650.0       1\n",
              "461680.0       1\n",
              "326230.0       1\n",
              "361930.0       1\n",
              "\n",
              "[8866 rows x 1 columns]"
            ]
          },
          "metadata": {},
          "execution_count": 270
        }
      ]
    },
    {
      "cell_type": "markdown",
      "metadata": {
        "id": "tcFo665ip4Ah"
      },
      "source": [
        "Podemos ver que el juego más popular es el que tiene el `'product_id'` o `'item_id'` igual a `440`:"
      ]
    },
    {
      "cell_type": "code",
      "metadata": {
        "colab": {
          "base_uri": "https://localhost:8080/",
          "height": 168
        },
        "id": "8jO1L4rRp-Qn",
        "outputId": "649f879b-99f6-4476-ee32-7218502a7f7e"
      },
      "source": [
        "df_games[df_games.id == 440]"
      ],
      "execution_count": null,
      "outputs": [
        {
          "output_type": "execute_result",
          "data": {
            "text/html": [
              "<div>\n",
              "<style scoped>\n",
              "    .dataframe tbody tr th:only-of-type {\n",
              "        vertical-align: middle;\n",
              "    }\n",
              "\n",
              "    .dataframe tbody tr th {\n",
              "        vertical-align: top;\n",
              "    }\n",
              "\n",
              "    .dataframe thead th {\n",
              "        text-align: right;\n",
              "    }\n",
              "</style>\n",
              "<table border=\"1\" class=\"dataframe\">\n",
              "  <thead>\n",
              "    <tr style=\"text-align: right;\">\n",
              "      <th></th>\n",
              "      <th>publisher</th>\n",
              "      <th>genres</th>\n",
              "      <th>app_name</th>\n",
              "      <th>title</th>\n",
              "      <th>url</th>\n",
              "      <th>release_date</th>\n",
              "      <th>tags</th>\n",
              "      <th>discount_price</th>\n",
              "      <th>reviews_url</th>\n",
              "      <th>specs</th>\n",
              "      <th>price</th>\n",
              "      <th>early_access</th>\n",
              "      <th>id</th>\n",
              "      <th>developer</th>\n",
              "      <th>sentiment</th>\n",
              "      <th>metascore</th>\n",
              "    </tr>\n",
              "  </thead>\n",
              "  <tbody>\n",
              "    <tr>\n",
              "      <th>31856</th>\n",
              "      <td>Valve</td>\n",
              "      <td>['Action', 'Free to Play']</td>\n",
              "      <td>Team Fortress 2</td>\n",
              "      <td>Team Fortress 2</td>\n",
              "      <td>http://store.steampowered.com/app/440/Team_For...</td>\n",
              "      <td>2007-10-10</td>\n",
              "      <td>['Free to Play', 'Multiplayer', 'FPS', 'Action...</td>\n",
              "      <td>NaN</td>\n",
              "      <td>http://steamcommunity.com/app/440/reviews/?bro...</td>\n",
              "      <td>['Multi-player', 'Cross-Platform Multiplayer',...</td>\n",
              "      <td>Free to Play</td>\n",
              "      <td>0</td>\n",
              "      <td>440.0</td>\n",
              "      <td>Valve</td>\n",
              "      <td>Very Positive</td>\n",
              "      <td>92.0</td>\n",
              "    </tr>\n",
              "  </tbody>\n",
              "</table>\n",
              "</div>"
            ],
            "text/plain": [
              "      publisher                      genres  ...      sentiment metascore\n",
              "31856     Valve  ['Action', 'Free to Play']  ...  Very Positive      92.0\n",
              "\n",
              "[1 rows x 16 columns]"
            ]
          },
          "metadata": {},
          "execution_count": 271
        }
      ]
    },
    {
      "cell_type": "markdown",
      "metadata": {
        "id": "T-s9jLvIqQPx"
      },
      "source": [
        "Los juegos menos populares son `529130.0` o `350800`:"
      ]
    },
    {
      "cell_type": "code",
      "metadata": {
        "colab": {
          "base_uri": "https://localhost:8080/",
          "height": 267
        },
        "id": "QQ9dzru2qago",
        "outputId": "5e5444f8-6feb-4eeb-fdf2-60f019905342"
      },
      "source": [
        "df_games.loc[(df_games.id == 529130) | (df_games.id == 350800)]"
      ],
      "execution_count": null,
      "outputs": [
        {
          "output_type": "execute_result",
          "data": {
            "text/html": [
              "<div>\n",
              "<style scoped>\n",
              "    .dataframe tbody tr th:only-of-type {\n",
              "        vertical-align: middle;\n",
              "    }\n",
              "\n",
              "    .dataframe tbody tr th {\n",
              "        vertical-align: top;\n",
              "    }\n",
              "\n",
              "    .dataframe thead th {\n",
              "        text-align: right;\n",
              "    }\n",
              "</style>\n",
              "<table border=\"1\" class=\"dataframe\">\n",
              "  <thead>\n",
              "    <tr style=\"text-align: right;\">\n",
              "      <th></th>\n",
              "      <th>publisher</th>\n",
              "      <th>genres</th>\n",
              "      <th>app_name</th>\n",
              "      <th>title</th>\n",
              "      <th>url</th>\n",
              "      <th>release_date</th>\n",
              "      <th>tags</th>\n",
              "      <th>discount_price</th>\n",
              "      <th>reviews_url</th>\n",
              "      <th>specs</th>\n",
              "      <th>price</th>\n",
              "      <th>early_access</th>\n",
              "      <th>id</th>\n",
              "      <th>developer</th>\n",
              "      <th>sentiment</th>\n",
              "      <th>metascore</th>\n",
              "    </tr>\n",
              "  </thead>\n",
              "  <tbody>\n",
              "    <tr>\n",
              "      <th>20126</th>\n",
              "      <td>GoldenGod Games</td>\n",
              "      <td>['Casual', 'Indie', 'RPG', 'Strategy']</td>\n",
              "      <td>Expect The Unexpected</td>\n",
              "      <td>Expect The Unexpected</td>\n",
              "      <td>http://store.steampowered.com/app/529130/Expec...</td>\n",
              "      <td>2016-12-09</td>\n",
              "      <td>['RPG', 'Casual', 'Indie', 'Strategy', 'Rogue-...</td>\n",
              "      <td>NaN</td>\n",
              "      <td>http://steamcommunity.com/app/529130/reviews/?...</td>\n",
              "      <td>['Single-player', 'Steam Achievements', 'Steam...</td>\n",
              "      <td>6.99</td>\n",
              "      <td>0</td>\n",
              "      <td>529130.0</td>\n",
              "      <td>GoldenGod Games</td>\n",
              "      <td>Mostly Positive</td>\n",
              "      <td>NaN</td>\n",
              "    </tr>\n",
              "    <tr>\n",
              "      <th>25163</th>\n",
              "      <td>Gametek Brasil</td>\n",
              "      <td>['Action', 'Adventure', 'Indie', 'RPG', 'Simul...</td>\n",
              "      <td>Cannibal</td>\n",
              "      <td>Cannibal</td>\n",
              "      <td>http://store.steampowered.com/app/350800/Canni...</td>\n",
              "      <td>2015-10-28</td>\n",
              "      <td>['Early Access', 'Simulation', 'RPG', 'Surviva...</td>\n",
              "      <td>NaN</td>\n",
              "      <td>http://steamcommunity.com/app/350800/reviews/?...</td>\n",
              "      <td>['Single-player', 'Captions available']</td>\n",
              "      <td>13.99</td>\n",
              "      <td>1</td>\n",
              "      <td>350800.0</td>\n",
              "      <td>Gametek Brasil</td>\n",
              "      <td>Mixed</td>\n",
              "      <td>NaN</td>\n",
              "    </tr>\n",
              "  </tbody>\n",
              "</table>\n",
              "</div>"
            ],
            "text/plain": [
              "             publisher  ... metascore\n",
              "20126  GoldenGod Games  ...       NaN\n",
              "25163   Gametek Brasil  ...       NaN\n",
              "\n",
              "[2 rows x 16 columns]"
            ]
          },
          "metadata": {},
          "execution_count": 272
        }
      ]
    },
    {
      "cell_type": "markdown",
      "metadata": {
        "id": "UqcI7uh1vJpM"
      },
      "source": [
        "Liberamos memoria utilizada para responder a la pregunta:"
      ]
    },
    {
      "cell_type": "code",
      "metadata": {
        "id": "ROI33oSat2h4"
      },
      "source": [
        "del reviews_product_funny"
      ],
      "execution_count": null,
      "outputs": []
    },
    {
      "cell_type": "code",
      "metadata": {
        "colab": {
          "base_uri": "https://localhost:8080/"
        },
        "id": "8psBTwCwvyGO",
        "outputId": "cff08d60-eacd-412a-f8cc-d5d278f5d7e6"
      },
      "source": [
        "gc.collect()"
      ],
      "execution_count": null,
      "outputs": [
        {
          "output_type": "execute_result",
          "data": {
            "text/plain": [
              "351"
            ]
          },
          "metadata": {},
          "execution_count": 274
        }
      ]
    },
    {
      "cell_type": "markdown",
      "metadata": {
        "id": "7R9JSQypfzN1"
      },
      "source": [
        "#### Filtro Colaborativo"
      ]
    },
    {
      "cell_type": "markdown",
      "metadata": {
        "id": "FS6Jm7Gpk0fP"
      },
      "source": [
        "Los sistemas de recomendación utilizan medidas de distancia o similitud para realizar las recomendaciones. En el filtrado colaborativo se observa la similitud entre usuarios y se buscan usuarios similares a un usuario determinado y luego se recomiendan elementos según sus preferencias.\n",
        "Al utilizar medidas de distancia, es acertado utilizar la raíz cuadrada de error cuadrático medio RMSE."
      ]
    },
    {
      "cell_type": "markdown",
      "metadata": {
        "id": "Ovhc4eDEv2Yf"
      },
      "source": [
        "Instalamos la librería `surprise`"
      ]
    },
    {
      "cell_type": "code",
      "metadata": {
        "id": "St2qCU8M52rf",
        "colab": {
          "base_uri": "https://localhost:8080/"
        },
        "outputId": "5610854c-7c26-4f94-d37f-8e184ba19a55"
      },
      "source": [
        "! pip install surprise"
      ],
      "execution_count": null,
      "outputs": [
        {
          "output_type": "stream",
          "name": "stdout",
          "text": [
            "Requirement already satisfied: surprise in /usr/local/lib/python3.7/dist-packages (0.1)\n",
            "Requirement already satisfied: scikit-surprise in /usr/local/lib/python3.7/dist-packages (from surprise) (1.1.1)\n",
            "Requirement already satisfied: six>=1.10.0 in /usr/local/lib/python3.7/dist-packages (from scikit-surprise->surprise) (1.15.0)\n",
            "Requirement already satisfied: joblib>=0.11 in /usr/local/lib/python3.7/dist-packages (from scikit-surprise->surprise) (1.0.1)\n",
            "Requirement already satisfied: numpy>=1.11.2 in /usr/local/lib/python3.7/dist-packages (from scikit-surprise->surprise) (1.19.5)\n",
            "Requirement already satisfied: scipy>=1.0.0 in /usr/local/lib/python3.7/dist-packages (from scikit-surprise->surprise) (1.4.1)\n"
          ]
        }
      ]
    },
    {
      "cell_type": "code",
      "metadata": {
        "colab": {
          "base_uri": "https://localhost:8080/"
        },
        "id": "6ObYBK02u47p",
        "outputId": "ee560e7b-e904-4052-db4f-2c61e1ea3a4e"
      },
      "source": [
        "df_reviews.shape"
      ],
      "execution_count": null,
      "outputs": [
        {
          "output_type": "execute_result",
          "data": {
            "text/plain": [
              "(779307, 3)"
            ]
          },
          "metadata": {},
          "execution_count": 276
        }
      ]
    },
    {
      "cell_type": "code",
      "metadata": {
        "colab": {
          "base_uri": "https://localhost:8080/"
        },
        "id": "IyBYi8xf79LB",
        "outputId": "6969395a-a866-4527-9c0f-56222b32cb7b"
      },
      "source": [
        "df_reviews.columns"
      ],
      "execution_count": null,
      "outputs": [
        {
          "output_type": "execute_result",
          "data": {
            "text/plain": [
              "Index(['user_id', 'item_id', 'Rating'], dtype='object')"
            ]
          },
          "metadata": {},
          "execution_count": 277
        }
      ]
    },
    {
      "cell_type": "markdown",
      "metadata": {
        "id": "83MhOtT17etH"
      },
      "source": [
        "Importamos las librerías necesarias para el modelo"
      ]
    },
    {
      "cell_type": "code",
      "metadata": {
        "id": "cNZNnC6p6t6e"
      },
      "source": [
        "from surprise import Dataset\n",
        "from surprise import Reader\n",
        "from surprise.model_selection import train_test_split"
      ],
      "execution_count": null,
      "outputs": []
    },
    {
      "cell_type": "markdown",
      "metadata": {
        "id": "wsuUniUE6bZL"
      },
      "source": [
        "Definimos un reader para el modelo de filtro colaborativo"
      ]
    },
    {
      "cell_type": "code",
      "metadata": {
        "id": "h5v4zQnR6gRn"
      },
      "source": [
        "reader = Reader()"
      ],
      "execution_count": null,
      "outputs": []
    },
    {
      "cell_type": "code",
      "metadata": {
        "colab": {
          "base_uri": "https://localhost:8080/"
        },
        "id": "uusDqUb_HGOi",
        "outputId": "718d0b5c-1ce9-43a0-917e-5e290b571119"
      },
      "source": [
        "df_reviews.dtypes"
      ],
      "execution_count": null,
      "outputs": [
        {
          "output_type": "execute_result",
          "data": {
            "text/plain": [
              "user_id     object\n",
              "item_id    float32\n",
              "Rating     float16\n",
              "dtype: object"
            ]
          },
          "metadata": {},
          "execution_count": 280
        }
      ]
    },
    {
      "cell_type": "code",
      "metadata": {
        "colab": {
          "base_uri": "https://localhost:8080/"
        },
        "id": "f6qHN-5sSMFD",
        "outputId": "7585f2fe-34d9-43d8-cf26-0467bc9fc96f"
      },
      "source": [
        "df_reviews.isna().sum()"
      ],
      "execution_count": null,
      "outputs": [
        {
          "output_type": "execute_result",
          "data": {
            "text/plain": [
              "user_id         0\n",
              "item_id         0\n",
              "Rating     659143\n",
              "dtype: int64"
            ]
          },
          "metadata": {},
          "execution_count": 281
        }
      ]
    },
    {
      "cell_type": "markdown",
      "metadata": {
        "id": "RhGaDHxUwbFv"
      },
      "source": [
        "Para el modelo, eliminamos las filas con valores faltantes"
      ]
    },
    {
      "cell_type": "code",
      "metadata": {
        "id": "XV0Us1Cde3ib"
      },
      "source": [
        "df_reviews.dropna(inplace = True)"
      ],
      "execution_count": null,
      "outputs": []
    },
    {
      "cell_type": "code",
      "metadata": {
        "colab": {
          "base_uri": "https://localhost:8080/",
          "height": 297
        },
        "id": "MQBk1FjkfGAr",
        "outputId": "15a266d7-1295-4006-8a84-f746b090be37"
      },
      "source": [
        "df_reviews.describe()"
      ],
      "execution_count": null,
      "outputs": [
        {
          "output_type": "execute_result",
          "data": {
            "text/html": [
              "<div>\n",
              "<style scoped>\n",
              "    .dataframe tbody tr th:only-of-type {\n",
              "        vertical-align: middle;\n",
              "    }\n",
              "\n",
              "    .dataframe tbody tr th {\n",
              "        vertical-align: top;\n",
              "    }\n",
              "\n",
              "    .dataframe thead th {\n",
              "        text-align: right;\n",
              "    }\n",
              "</style>\n",
              "<table border=\"1\" class=\"dataframe\">\n",
              "  <thead>\n",
              "    <tr style=\"text-align: right;\">\n",
              "      <th></th>\n",
              "      <th>item_id</th>\n",
              "      <th>Rating</th>\n",
              "    </tr>\n",
              "  </thead>\n",
              "  <tbody>\n",
              "    <tr>\n",
              "      <th>count</th>\n",
              "      <td>120164.000000</td>\n",
              "      <td>120164.0</td>\n",
              "    </tr>\n",
              "    <tr>\n",
              "      <th>mean</th>\n",
              "      <td>278993.687500</td>\n",
              "      <td>NaN</td>\n",
              "    </tr>\n",
              "    <tr>\n",
              "      <th>std</th>\n",
              "      <td>152037.453125</td>\n",
              "      <td>NaN</td>\n",
              "    </tr>\n",
              "    <tr>\n",
              "      <th>min</th>\n",
              "      <td>10.000000</td>\n",
              "      <td>1.0</td>\n",
              "    </tr>\n",
              "    <tr>\n",
              "      <th>25%</th>\n",
              "      <td>219640.000000</td>\n",
              "      <td>1.0</td>\n",
              "    </tr>\n",
              "    <tr>\n",
              "      <th>50%</th>\n",
              "      <td>287840.000000</td>\n",
              "      <td>1.0</td>\n",
              "    </tr>\n",
              "    <tr>\n",
              "      <th>75%</th>\n",
              "      <td>375710.000000</td>\n",
              "      <td>3.0</td>\n",
              "    </tr>\n",
              "    <tr>\n",
              "      <th>max</th>\n",
              "      <td>772540.000000</td>\n",
              "      <td>6524.0</td>\n",
              "    </tr>\n",
              "  </tbody>\n",
              "</table>\n",
              "</div>"
            ],
            "text/plain": [
              "             item_id    Rating\n",
              "count  120164.000000  120164.0\n",
              "mean   278993.687500       NaN\n",
              "std    152037.453125       NaN\n",
              "min        10.000000       1.0\n",
              "25%    219640.000000       1.0\n",
              "50%    287840.000000       1.0\n",
              "75%    375710.000000       3.0\n",
              "max    772540.000000    6524.0"
            ]
          },
          "metadata": {},
          "execution_count": 283
        }
      ]
    },
    {
      "cell_type": "markdown",
      "metadata": {
        "id": "-30WJSZP7zRl"
      },
      "source": [
        "Creamos el Dataset de Surprise usando Dataset.load_from_df"
      ]
    },
    {
      "cell_type": "code",
      "metadata": {
        "id": "5yZFm4ae6gvT"
      },
      "source": [
        "data = Dataset.load_from_df(df_reviews[['user_id', 'item_id','Rating']], reader)"
      ],
      "execution_count": null,
      "outputs": []
    },
    {
      "cell_type": "markdown",
      "metadata": {
        "id": "9JIGHGI-8Jt0"
      },
      "source": [
        "Separamos los datos para entrenamiento y test"
      ]
    },
    {
      "cell_type": "code",
      "metadata": {
        "id": "aM0fqPUi8NLw"
      },
      "source": [
        "trainset, testset = train_test_split(data, test_size=.25)"
      ],
      "execution_count": null,
      "outputs": []
    },
    {
      "cell_type": "markdown",
      "metadata": {
        "id": "oW0Y6jKE8YQX"
      },
      "source": [
        "#### Entrenamiento"
      ]
    },
    {
      "cell_type": "markdown",
      "metadata": {
        "id": "yuivX8fU8hzA"
      },
      "source": [
        "Se va a utilizar un algoritmo de SVD para comparar con los siguientes algoritmos."
      ]
    },
    {
      "cell_type": "code",
      "metadata": {
        "id": "ismDtPlfrnB_"
      },
      "source": [
        "from surprise import SVD\n",
        "algo_svd = SVD()"
      ],
      "execution_count": null,
      "outputs": []
    },
    {
      "cell_type": "markdown",
      "metadata": {
        "id": "jtMUi8Of8uU7"
      },
      "source": [
        "Entrenamos con los datos de entrenamiento `trainset`"
      ]
    },
    {
      "cell_type": "code",
      "metadata": {
        "colab": {
          "base_uri": "https://localhost:8080/"
        },
        "id": "2atGcrt98phf",
        "outputId": "40f9cc79-7dd7-4c2b-e86f-38ab7d8cb22e"
      },
      "source": [
        "algo_svd.fit(trainset)"
      ],
      "execution_count": null,
      "outputs": [
        {
          "output_type": "execute_result",
          "data": {
            "text/plain": [
              "<surprise.prediction_algorithms.matrix_factorization.SVD at 0x7f1ef8138590>"
            ]
          },
          "metadata": {},
          "execution_count": 287
        }
      ]
    },
    {
      "cell_type": "markdown",
      "metadata": {
        "id": "YkVpG1Fr-eZW"
      },
      "source": [
        "Obtenemos las predicciones"
      ]
    },
    {
      "cell_type": "code",
      "metadata": {
        "id": "6qSblZtJ83Fq"
      },
      "source": [
        "predicciones_svd = algo_svd.test(testset)"
      ],
      "execution_count": null,
      "outputs": []
    },
    {
      "cell_type": "markdown",
      "metadata": {
        "id": "V2eH1kICyJ0v"
      },
      "source": [
        "Vemos una predicción"
      ]
    },
    {
      "cell_type": "code",
      "metadata": {
        "colab": {
          "base_uri": "https://localhost:8080/"
        },
        "id": "iG5kgCvl-lfP",
        "outputId": "41ce9595-d0e5-414e-8091-094acfa5fc4e"
      },
      "source": [
        "predicciones_svd[1]"
      ],
      "execution_count": null,
      "outputs": [
        {
          "output_type": "execute_result",
          "data": {
            "text/plain": [
              "Prediction(uid=\"b'LegendaryMO'\", iid=268910.0, r_ui=1.0, est=5, details={'was_impossible': False})"
            ]
          },
          "metadata": {},
          "execution_count": 289
        }
      ]
    },
    {
      "cell_type": "code",
      "metadata": {
        "colab": {
          "base_uri": "https://localhost:8080/"
        },
        "id": "6mAX8E5VAF5C",
        "outputId": "712e0de7-f4e0-4727-d4b7-a330609f7c1a"
      },
      "source": [
        "len(predicciones_svd)"
      ],
      "execution_count": null,
      "outputs": [
        {
          "output_type": "execute_result",
          "data": {
            "text/plain": [
              "30041"
            ]
          },
          "metadata": {},
          "execution_count": 290
        }
      ]
    },
    {
      "cell_type": "code",
      "metadata": {
        "colab": {
          "base_uri": "https://localhost:8080/"
        },
        "id": "x4dnqKqLAzQw",
        "outputId": "3c532662-eda3-4ca1-d1a4-deb9834de5f8"
      },
      "source": [
        "predicciones_svd[15000]"
      ],
      "execution_count": null,
      "outputs": [
        {
          "output_type": "execute_result",
          "data": {
            "text/plain": [
              "Prediction(uid=\"b'Most famous crane'\", iid=243970.0, r_ui=4.0, est=5, details={'was_impossible': False})"
            ]
          },
          "metadata": {},
          "execution_count": 291
        }
      ]
    },
    {
      "cell_type": "markdown",
      "metadata": {
        "id": "Yux7D-qUxXkb"
      },
      "source": [
        "**Similitud coseno**"
      ]
    },
    {
      "cell_type": "markdown",
      "metadata": {
        "id": "VVW1zGH7w_kb"
      },
      "source": [
        "Para utilizar similitud coseno, se va a implementar el algoritmo `KNNBasic` de la librería `surprise`"
      ]
    },
    {
      "cell_type": "code",
      "metadata": {
        "id": "Bf5XcrbN8DJV"
      },
      "source": [
        "from surprise import KNNBasic"
      ],
      "execution_count": null,
      "outputs": []
    },
    {
      "cell_type": "code",
      "metadata": {
        "id": "XZqQPReEyTxv"
      },
      "source": [
        "sim_options = {'name': 'cosine', 'user_based': False}\n",
        "algo_bench_knn = KNNBasic(sim_options=sim_options)"
      ],
      "execution_count": null,
      "outputs": []
    },
    {
      "cell_type": "markdown",
      "metadata": {
        "id": "f0aAg9J8zRlR"
      },
      "source": [
        "Entrenamos con los datos de entrenamiento `trainset`"
      ]
    },
    {
      "cell_type": "code",
      "metadata": {
        "colab": {
          "base_uri": "https://localhost:8080/"
        },
        "id": "UfvOdbPBD2GL",
        "outputId": "92a47432-1819-4ec8-db5b-8e4fa641d61a"
      },
      "source": [
        "gc.collect()"
      ],
      "execution_count": null,
      "outputs": [
        {
          "output_type": "execute_result",
          "data": {
            "text/plain": [
              "323"
            ]
          },
          "metadata": {},
          "execution_count": 294
        }
      ]
    },
    {
      "cell_type": "code",
      "metadata": {
        "colab": {
          "base_uri": "https://localhost:8080/"
        },
        "id": "6YSCT-0jzT4C",
        "outputId": "54403cf8-524f-40f4-c1a8-a86d84dc1b70"
      },
      "source": [
        "algo_bench_knn.fit(trainset)"
      ],
      "execution_count": null,
      "outputs": [
        {
          "output_type": "stream",
          "name": "stdout",
          "text": [
            "Computing the cosine similarity matrix...\n",
            "Done computing similarity matrix.\n"
          ]
        },
        {
          "output_type": "execute_result",
          "data": {
            "text/plain": [
              "<surprise.prediction_algorithms.knns.KNNBasic at 0x7f1eb0660090>"
            ]
          },
          "metadata": {},
          "execution_count": 295
        }
      ]
    },
    {
      "cell_type": "code",
      "metadata": {
        "id": "n63chjFEzitF"
      },
      "source": [
        "predicciones_knn = algo_bench_knn.test(testset)"
      ],
      "execution_count": null,
      "outputs": []
    },
    {
      "cell_type": "markdown",
      "metadata": {
        "id": "pSJ4_VOT_tyY"
      },
      "source": [
        "#### Evaluación"
      ]
    },
    {
      "cell_type": "markdown",
      "metadata": {
        "id": "7fW5Tz5Iz8rC"
      },
      "source": [
        "Para evaluar el algoritmo, utilizamos el accuracy con la raíz cuadrada de error cuadrático medio RMSE."
      ]
    },
    {
      "cell_type": "code",
      "metadata": {
        "id": "lFspzSVg-xz_"
      },
      "source": [
        "from surprise import accuracy"
      ],
      "execution_count": null,
      "outputs": []
    },
    {
      "cell_type": "markdown",
      "metadata": {
        "id": "dRSkjODfN8Wb"
      },
      "source": [
        "Algoritmo SVD:"
      ]
    },
    {
      "cell_type": "code",
      "metadata": {
        "colab": {
          "base_uri": "https://localhost:8080/"
        },
        "id": "54-AVly1_wkX",
        "outputId": "137191d3-8125-405f-987f-1302de40b565"
      },
      "source": [
        "accuracy.rmse(predicciones_svd)"
      ],
      "execution_count": null,
      "outputs": [
        {
          "output_type": "stream",
          "name": "stdout",
          "text": [
            "RMSE: 72.1920\n"
          ]
        },
        {
          "output_type": "execute_result",
          "data": {
            "text/plain": [
              "72.19201849488361"
            ]
          },
          "metadata": {},
          "execution_count": 298
        }
      ]
    },
    {
      "cell_type": "markdown",
      "metadata": {
        "id": "qjuhB1qIN-pV"
      },
      "source": [
        "Algoritmo `KNNBasic` con similitud coseno:"
      ]
    },
    {
      "cell_type": "code",
      "metadata": {
        "colab": {
          "base_uri": "https://localhost:8080/"
        },
        "id": "7s9JvSJ8M3xk",
        "outputId": "a57e9dfe-4a7d-427b-f290-b3dc2882b272"
      },
      "source": [
        "accuracy.rmse(predicciones_knn)"
      ],
      "execution_count": null,
      "outputs": [
        {
          "output_type": "stream",
          "name": "stdout",
          "text": [
            "RMSE: 72.1922\n"
          ]
        },
        {
          "output_type": "execute_result",
          "data": {
            "text/plain": [
              "72.19218245061657"
            ]
          },
          "metadata": {},
          "execution_count": 299
        }
      ]
    },
    {
      "cell_type": "markdown",
      "metadata": {
        "id": "BvxMuJRY-KPl"
      },
      "source": [
        "Eliminamos los modelos para liberar memoria"
      ]
    },
    {
      "cell_type": "code",
      "metadata": {
        "id": "ewnGDkV2-M1O"
      },
      "source": [
        "del algo_svd\n",
        "del predicciones_svd\n",
        "del algo_bench_knn\n",
        "del predicciones_knn"
      ],
      "execution_count": null,
      "outputs": []
    },
    {
      "cell_type": "code",
      "metadata": {
        "colab": {
          "base_uri": "https://localhost:8080/"
        },
        "id": "IGtRJ3PF-ciD",
        "outputId": "02d7bc6b-c9d4-4878-ee28-a823a2f6c603"
      },
      "source": [
        "gc.collect()"
      ],
      "execution_count": null,
      "outputs": [
        {
          "output_type": "execute_result",
          "data": {
            "text/plain": [
              "100"
            ]
          },
          "metadata": {},
          "execution_count": 301
        }
      ]
    },
    {
      "cell_type": "markdown",
      "metadata": {
        "id": "Csix0RBG2Kb2"
      },
      "source": [
        "#### Modelo benchmark"
      ]
    },
    {
      "cell_type": "markdown",
      "metadata": {
        "id": "wLd_xSYR2PG_"
      },
      "source": [
        "Vamos a utilizar como modelo benchmark `algo_bench_knn` que dio un `accuracy` de `rmse` de 72.1922."
      ]
    },
    {
      "cell_type": "markdown",
      "metadata": {
        "id": "K9vil_tQ2rmF"
      },
      "source": [
        "#### Optimización"
      ]
    },
    {
      "cell_type": "markdown",
      "metadata": {
        "id": "7lidzUzA4WkI"
      },
      "source": [
        "Para optimizar el modelo, vamos a utilizar validación cruzada de 3 folds, y grid search para iterar entre hiperparámetros."
      ]
    },
    {
      "cell_type": "code",
      "metadata": {
        "id": "vt6PJqDc6Haq"
      },
      "source": [
        "from surprise.model_selection import GridSearchCV"
      ],
      "execution_count": null,
      "outputs": []
    },
    {
      "cell_type": "code",
      "metadata": {
        "id": "arjAgCgB7Scb"
      },
      "source": [
        "#sim_options = {'name': 'cosine', 'user_based': False}\n",
        "k_max = [5, 7, 10, 13, 15, 20, 30, 35, 40, 45]\n",
        "\n",
        "param_grid = {'k': k_max,\n",
        "              'min_k': [1, 2, 3],\n",
        "              'sim_options': {'name': ['cosine'],\n",
        "                              'user_based': [False]}\n",
        "              }"
      ],
      "execution_count": null,
      "outputs": []
    },
    {
      "cell_type": "code",
      "metadata": {
        "id": "zhtDFIHP_07V"
      },
      "source": [
        "gs = GridSearchCV(KNNBasic, param_grid, measures=['rmse'], cv=3, n_jobs = -1)"
      ],
      "execution_count": null,
      "outputs": []
    },
    {
      "cell_type": "code",
      "metadata": {
        "id": "59gkV0K1-txU"
      },
      "source": [
        "gs.fit(data)"
      ],
      "execution_count": null,
      "outputs": []
    },
    {
      "cell_type": "code",
      "metadata": {
        "id": "llesIiK_6to7",
        "colab": {
          "base_uri": "https://localhost:8080/"
        },
        "outputId": "aaa052f5-62af-40af-c930-63c86459ddf3"
      },
      "source": [
        "print(\"RMSE: \", gs.best_score['rmse'])\n",
        "print(\"Mejores Parámetros: \",gs.best_params['rmse'])"
      ],
      "execution_count": null,
      "outputs": [
        {
          "output_type": "stream",
          "name": "stdout",
          "text": [
            "RMSE:  71.41033142854938\n",
            "Mejores Parámetros:  {'k': 7, 'min_k': 2, 'sim_options': {'name': 'cosine', 'user_based': False}}\n"
          ]
        }
      ]
    },
    {
      "cell_type": "markdown",
      "metadata": {
        "id": "n_2DKRn7Jifa"
      },
      "source": [
        "Podemos ver que con los parámetros `{'k': 7, 'min_k': 2, 'sim_options': {'name': 'cosine', 'user_based': False}}`, mejoramos nuestro modelo de benchmark, obteniendo un `RMSE` de `71.41`."
      ]
    },
    {
      "cell_type": "markdown",
      "metadata": {
        "id": "nsqsZeO_O2d3"
      },
      "source": [
        "#### Para pensar"
      ]
    },
    {
      "cell_type": "markdown",
      "metadata": {
        "id": "PDQs0N1lO4HU"
      },
      "source": [
        "Para pensar, investigar y, opcionalmente, implementar\n",
        "\n",
        "**1.** ¿Cómo harías para ponerle un valor a la calificación?\n",
        "\n"
      ]
    },
    {
      "cell_type": "markdown",
      "metadata": {
        "id": "dD4JoC4sPuiB"
      },
      "source": [
        "Para poner una calificación a las reviews, se podría implementar un modelo de procesamiento de lenguaje natural a la columna `'text'` para hacer un análisis de sentimiento de la crítica, por ejemplo si es positiva o negativa."
      ]
    },
    {
      "cell_type": "markdown",
      "metadata": {
        "id": "7hcoixRVPtQL"
      },
      "source": [
        "**2.**   ¿Cómo harías para agregar contenido? Por ejemplo, cuentas con el género, precio, fecha de lanzamiento y más información de los juegos."
      ]
    },
    {
      "cell_type": "markdown",
      "metadata": {
        "id": "TUxIwBtGWqJu"
      },
      "source": [
        "Para cargar contenido como género, precio, fecha de lanzamiento, etc., en el dataset de `games`, recorrería cada URL de la columna `'reviews_url'` y con un scrapper extraería los datos necesarios para completar las columnas que falten para ese registro."
      ]
    },
    {
      "cell_type": "markdown",
      "metadata": {
        "id": "JVZdLtytWlls"
      },
      "source": [
        "\n",
        "**3.** ¿Hay algo que te gustaría investigar o probar?"
      ]
    },
    {
      "cell_type": "markdown",
      "metadata": {
        "id": "Gpbh6NwyZEBE"
      },
      "source": [
        "Me gustaría investigar y entender cómo se hace para actualizar dinámicamente las recomendaciones de los usuarios dependiendo de alguna elección del mismo.\n",
        "\n",
        "Un artículo interesante que habla de las recomendaciones en tiempo real es:\n",
        "\n",
        "https://eugeneyan.com/writing/real-time-recommendations/\n",
        "\n",
        "Se mencionan ejemplos en los que se puede utilizar un sistema de recomendación en tiempo real, como el caso de una tienda: si un usuario generalmente compra ropa, un sistema de recomendación mostraría recomendaciones de moda, pero si el usuario quiere comprar ahora un monitor y empieza a buscarlo, un sistema de recomendación debería ayudarlo, pero un sistema por lotes no se actualizaría lo suficientemente rápido.\n",
        "\n",
        "Otros ejemplos en los que se puede aplicar un sistema de recomendación en tiempo real es:\n",
        "\n",
        "\n",
        "*   Recomendación de películas\n",
        "*   Recomendación de viajes\n",
        "*   Recomendación de videos Youtube\n",
        "*   Publicación de anuncios dependiendo del contexto\n",
        "\n",
        "Se mencionan algunos ejemplos de sistema de recomendación en tiempo real de algunas empresas grandes como Alibaba, Tencent, YouTube, Instagram, indicando los papers o referencias de los sistemas. Se muestran también tips para implementar un sistema de recomendación en tiempo real, en el cual se considera la latencia, las consultas por segundo y los costos, como así también algoritmos e infraestructura que se podría utilizar.\n",
        "\n",
        "Me gustaría poder hacer una **prueba de concepto** de un sistema recomendador en tiempo real, sin tener en cuenta las consultas por segundo o la infraestructura necesaria para una puesta en producción, solo los algoritmos, las recomendaciones, los rankigs, etc, simular una interacción de usuario (clic en algún ítem), actualizar, obtener las recomendaciones y compararlas con las recomendaciones anteriores y ver las diferencias o cambios.\n"
      ]
    }
  ]
}